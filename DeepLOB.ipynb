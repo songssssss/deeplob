{
 "cells": [
  {
   "cell_type": "code",
   "execution_count": 1,
   "metadata": {},
   "outputs": [],
   "source": [
    "# limit gpu memory\n",
    "\n",
    "import tensorflow as tf\n",
    "# detect GPU\n",
    "gpus = tf.config.experimental.list_physical_devices('GPU')\n",
    "if gpus:\n",
    "  # Restrict TensorFlow to only use the first GPU\n",
    "  try:\n",
    "    # to limit TensorFlow to a specific set of GPUs\n",
    "    tf.config.experimental.set_visible_devices(gpus[0], 'GPU') # Set the list of visible devices\n",
    "    logical_gpus = tf.config.experimental.list_logical_devices('GPU')\n",
    "    print(len(gpus), \"Physical GPUs,\", len(logical_gpus), \"Logical GPU\")\n",
    "  except RuntimeError as e:\n",
    "    # Visible devices must be set before GPUs have been initialized\n",
    "    print(e)"
   ]
  },
  {
   "cell_type": "markdown",
   "metadata": {},
   "source": [
    "`tf.config.experimental.list_physical_devices(device_type=None)`\n",
    "* Return a list of physical devices visible to the runtime.\n",
    "* Physical devices are hardware devices locally present on the current machine. By default all discovered CPU and GPU devices are considered visible. The `list_physical_devices` allows querying the hardware prior to runtime initialization.\n",
    "\n",
    "`tf.config.experimental.list_logical_devices(device_type=None)`\n",
    "* Return a list of logical devices created by runtime.\n",
    "* Logical devices may correspond to physical devices or remote devices in the cluster. Operations and tensors may be placed on these devices by using the `name` of the LogicalDevice.\n",
    "\n",
    "`tf.config.list_physical_devices('GPU')` to confirm that TensorFlow is using the GPU.\n",
    "\n",
    "The above block is to limit GPU memory growth\n",
    "\n",
    "\n",
    "More details about GPU\n",
    "https://tensorflow.google.cn/guide/gpu"
   ]
  },
  {
   "cell_type": "code",
   "execution_count": 5,
   "metadata": {},
   "outputs": [],
   "source": [
    "from tensorflow.keras.layers import Flatten, Dense, Dropout, Activation, Input, LSTM, Reshape, Conv2D, MaxPooling2D"
   ]
  },
  {
   "cell_type": "code",
   "execution_count": null,
   "metadata": {},
   "outputs": [],
   "source": [
    "# load packages\n",
    "import pandas as pd\n",
    "import pickle\n",
    "import numpy as np\n",
    "from tensorflow import keras\n",
    "from keras import backend as K\n",
    "from tensorflow.keras.models import load_model, Model\n",
    "from tensorflow.keras.layers import Flatten, Dense, Dropout, Activation, Input, LSTM, Reshape, Conv2D, MaxPooling2D\n",
    "from keras.optimizers import Adam\n",
    "from keras.layers.advanced_activations import LeakyReLU\n",
    "\n",
    "from keras.utils import np_utils\n",
    "import matplotlib.pyplot as plt\n",
    "\n",
    "# set random seeds\n",
    "np.random.seed(1)\n",
    "tf.random.set_seed(2)"
   ]
  },
  {
   "cell_type": "code",
   "execution_count": null,
   "metadata": {},
   "outputs": [],
   "source": [
    "# # Data preparation\n",
    "\n",
    "def prepare_x(data):\n",
    "    df1 = data[:40, :].T\n",
    "    return np.array(df1)\n",
    "\n",
    "def get_label(data):\n",
    "    lob = data[-5:, :].T\n",
    "    return lob\n",
    "\n",
    "def data_classification(X, Y, T):\n",
    "    [N, D] = X.shape\n",
    "    df = np.array(X)\n",
    "\n",
    "    dY = np.array(Y)\n",
    "\n",
    "    dataY = dY[T - 1:N]\n",
    "\n",
    "    dataX = np.zeros((N - T + 1, T, D))\n",
    "    for i in range(T, N + 1):\n",
    "        dataX[i - T] = df[i - T:i, :]\n",
    "\n",
    "    return dataX.reshape(dataX.shape + (1,)), dataY"
   ]
  },
  {
   "cell_type": "code",
   "execution_count": null,
   "metadata": {},
   "outputs": [],
   "source": [
    "# please change the data_path to your local path\n",
    "data_path = '/users/b152278'\n",
    "\n",
    "dec_train = np.loadtxt(data_path + '/Train_Dst_NoAuction_DecPre_CF_7.txt')\n",
    "dec_test1 = np.loadtxt(data_path + '/Test_Dst_NoAuction_DecPre_CF_7.txt')\n",
    "dec_test2 = np.loadtxt(data_path + '/Test_Dst_NoAuction_DecPre_CF_8.txt')\n",
    "dec_test3 = np.loadtxt(data_path + '/Test_Dst_NoAuction_DecPre_CF_9.txt')\n",
    "dec_test = np.hstack((dec_test1, dec_test2, dec_test3))\n",
    "\n",
    "# extract limit order book data from the FI-2010 dataset\n",
    "train_lob = prepare_x(dec_train)\n",
    "test_lob = prepare_x(dec_test)\n",
    "\n",
    "# extract label from the FI-2010 dataset\n",
    "train_label = get_label(dec_train)\n",
    "test_label = get_label(dec_test)\n",
    "\n",
    "# prepare training data. We feed past 100 observations into our algorithms and choose the prediction horizon. \n",
    "trainX_CNN, trainY_CNN = data_classification(train_lob, train_label, T=100)\n",
    "trainY_CNN = trainY_CNN[:,3] - 1\n",
    "trainY_CNN = np_utils.to_categorical(trainY_CNN, 3)\n",
    "\n",
    "# prepare test data.\n",
    "testX_CNN, testY_CNN = data_classification(test_lob, test_label, T=100)\n",
    "testY_CNN = testY_CNN[:,3] - 1\n",
    "\n",
    "testY_CNN = np_utils.to_categorical(testY_CNN, 3)"
   ]
  },
  {
   "cell_type": "code",
   "execution_count": 96,
   "metadata": {},
   "outputs": [],
   "source": [
    "# to find the shape at each step\n",
    "input_lmd = Input(shape=(100, 40, 1))"
   ]
  },
  {
   "cell_type": "code",
   "execution_count": 97,
   "metadata": {},
   "outputs": [],
   "source": [
    "conv_first1 = Conv2D(32, (1, 2), strides=(1, 2))(input_lmd)\n",
    "conv_first1.shape"
   ]
  },
  {
   "cell_type": "code",
   "execution_count": 100,
   "metadata": {},
   "outputs": [],
   "source": [
    "conv_first1 = tf.keras.layers.LeakyReLU(alpha=0.01)(conv_first1)\n",
    "conv_first1 = Conv2D(32, (4, 1), padding='same')(conv_first1)\n",
    "conv_first1 = tf.keras.layers.LeakyReLU(alpha=0.01)(conv_first1)\n",
    "conv_first1 = Conv2D(32, (4, 1), padding='same')(conv_first1)\n",
    "conv_first1 = tf.keras.layers.LeakyReLU(alpha=0.01)(conv_first1)\n",
    "conv_first1.shape"
   ]
  },
  {
   "cell_type": "code",
   "execution_count": 107,
   "metadata": {},
   "outputs": [
    {
     "data": {
      "text/plain": [
       "TensorShape([None, 100, 10, 32])"
      ]
     },
     "execution_count": 107,
     "metadata": {},
     "output_type": "execute_result"
    }
   ],
   "source": [
    "conv_first1 = Conv2D(32, (1, 2), strides=(1, 2))(conv_first1)\n",
    "conv_first1.shape"
   ]
  },
  {
   "cell_type": "code",
   "execution_count": 108,
   "metadata": {},
   "outputs": [
    {
     "data": {
      "text/plain": [
       "TensorShape([None, 100, 10, 32])"
      ]
     },
     "execution_count": 108,
     "metadata": {},
     "output_type": "execute_result"
    }
   ],
   "source": [
    "conv_first1 = tf.keras.layers.LeakyReLU(alpha=0.01)(conv_first1)\n",
    "conv_first1 = Conv2D(32, (4, 1), padding='same')(conv_first1)\n",
    "conv_first1 = tf.keras.layers.LeakyReLU(alpha=0.01)(conv_first1)\n",
    "conv_first1 = Conv2D(32, (4, 1), padding='same')(conv_first1)\n",
    "conv_first1 = tf.keras.layers.LeakyReLU(alpha=0.01)(conv_first1)\n",
    "conv_first1.shape"
   ]
  },
  {
   "cell_type": "code",
   "execution_count": 109,
   "metadata": {},
   "outputs": [
    {
     "data": {
      "text/plain": [
       "TensorShape([None, 100, 1, 32])"
      ]
     },
     "execution_count": 109,
     "metadata": {},
     "output_type": "execute_result"
    }
   ],
   "source": [
    "conv_first1 = Conv2D(32, (1, 10))(conv_first1)\n",
    "conv_first1.shape"
   ]
  },
  {
   "cell_type": "code",
   "execution_count": 110,
   "metadata": {},
   "outputs": [
    {
     "data": {
      "text/plain": [
       "TensorShape([None, 100, 1, 32])"
      ]
     },
     "execution_count": 110,
     "metadata": {},
     "output_type": "execute_result"
    }
   ],
   "source": [
    "conv_first1 = tf.keras.layers.LeakyReLU(alpha=0.01)(conv_first1)\n",
    "conv_first1 = Conv2D(32, (4, 1), padding='same')(conv_first1)\n",
    "conv_first1 = tf.keras.layers.LeakyReLU(alpha=0.01)(conv_first1)\n",
    "conv_first1 = Conv2D(32, (4, 1), padding='same')(conv_first1)\n",
    "conv_first1 = tf.keras.layers.LeakyReLU(alpha=0.01)(conv_first1)\n",
    "conv_first1.shape"
   ]
  },
  {
   "cell_type": "code",
   "execution_count": 111,
   "metadata": {},
   "outputs": [
    {
     "data": {
      "text/plain": [
       "TensorShape([None, 100, 1, 64])"
      ]
     },
     "execution_count": 111,
     "metadata": {},
     "output_type": "execute_result"
    }
   ],
   "source": [
    "convsecond_1 = Conv2D(64, (1, 1), padding='same')(conv_first1)\n",
    "convsecond_1 = tf.keras.layers.LeakyReLU(alpha=0.01)(convsecond_1)\n",
    "convsecond_1 = Conv2D(64, (3, 1), padding='same')(convsecond_1)\n",
    "convsecond_1 = tf.keras.layers.LeakyReLU(alpha=0.01)(convsecond_1)\n",
    "convsecond_1.shape"
   ]
  },
  {
   "cell_type": "code",
   "execution_count": 126,
   "metadata": {},
   "outputs": [
    {
     "data": {
      "text/plain": [
       "TensorShape([None, 100, 1, 32])"
      ]
     },
     "execution_count": 126,
     "metadata": {},
     "output_type": "execute_result"
    }
   ],
   "source": [
    "conv_first1.shape"
   ]
  },
  {
   "cell_type": "code",
   "execution_count": 127,
   "metadata": {},
   "outputs": [],
   "source": [
    "convsecond_2 = Conv2D(64, (1, 1), padding='same')(conv_first1)\n",
    "convsecond_2 = tf.keras.layers.LeakyReLU(alpha=0.01)(convsecond_2)\n",
    "convsecond_2 = Conv2D(64, (5, 1), padding='same')(convsecond_2)\n",
    "convsecond_2 = tf.keras.layers.LeakyReLU(alpha=0.01)(convsecond_2)"
   ]
  },
  {
   "cell_type": "code",
   "execution_count": 128,
   "metadata": {},
   "outputs": [
    {
     "data": {
      "text/plain": [
       "TensorShape([None, 100, 1, 64])"
      ]
     },
     "execution_count": 128,
     "metadata": {},
     "output_type": "execute_result"
    }
   ],
   "source": [
    "convsecond_2.shape"
   ]
  },
  {
   "cell_type": "code",
   "execution_count": 129,
   "metadata": {},
   "outputs": [
    {
     "data": {
      "text/plain": [
       "TensorShape([None, 100, 1, 64])"
      ]
     },
     "execution_count": 129,
     "metadata": {},
     "output_type": "execute_result"
    }
   ],
   "source": [
    "convsecond_3 = MaxPooling2D((3, 1), strides=(1, 1), padding='same')(conv_first1)\n",
    "convsecond_3 = Conv2D(64, (1, 1), padding='same')(convsecond_3)\n",
    "convsecond_3 = tf.keras.layers.LeakyReLU(alpha=0.01)(convsecond_3)\n",
    "convsecond_3.shape"
   ]
  },
  {
   "cell_type": "code",
   "execution_count": 131,
   "metadata": {},
   "outputs": [
    {
     "data": {
      "text/plain": [
       "TensorShape([None, 100, 1, 192])"
      ]
     },
     "execution_count": 131,
     "metadata": {},
     "output_type": "execute_result"
    }
   ],
   "source": [
    "convsecond_output = tf.keras.layers.concatenate([convsecond_1, convsecond_2, convsecond_3], axis=3)\n",
    "convsecond_output.shape"
   ]
  },
  {
   "cell_type": "code",
   "execution_count": 133,
   "metadata": {},
   "outputs": [
    {
     "data": {
      "text/plain": [
       "100"
      ]
     },
     "execution_count": 133,
     "metadata": {},
     "output_type": "execute_result"
    }
   ],
   "source": [
    "convsecond_output.shape[1]"
   ]
  },
  {
   "cell_type": "code",
   "execution_count": 134,
   "metadata": {},
   "outputs": [
    {
     "data": {
      "text/plain": [
       "192"
      ]
     },
     "execution_count": 134,
     "metadata": {},
     "output_type": "execute_result"
    }
   ],
   "source": [
    "convsecond_output.shape[3]"
   ]
  },
  {
   "cell_type": "code",
   "execution_count": 137,
   "metadata": {},
   "outputs": [],
   "source": [
    "conv_reshape = Reshape((int(convsecond_output.shape[1]), int(convsecond_output.shape[3])))(convsecond_output)"
   ]
  },
  {
   "cell_type": "code",
   "execution_count": 138,
   "metadata": {},
   "outputs": [],
   "source": [
    "conv_lstm = LSTM(64)(conv_reshape)\n",
    "conv_lstm.shape"
   ]
  },
  {
   "cell_type": "code",
   "execution_count": 140,
   "metadata": {},
   "outputs": [],
   "source": [
    "out = Dense(3, activation='softmax')(conv_lstm)\n",
    "out.shape"
   ]
  },
  {
   "cell_type": "code",
   "execution_count": null,
   "metadata": {},
   "outputs": [],
   "source": [
    "# # Model Architecture\n",
    "# \n",
    "# Please find the detailed discussion of our model architecture in our paper.\n",
    "def create_deeplob(T, NF, number_of_lstm):\n",
    "    input_lmd = Input(shape=(T, NF, 1))\n",
    "\n",
    "    # build the convolutional block\n",
    "    conv_first1 = Conv2D(32, (1, 2), strides=(1, 2))(input_lmd) # (batch_size, 100, 20, 32)\n",
    "    conv_first1 = tf.keras.layers.LeakyReLU(alpha=0.01)(conv_first1)\n",
    "    conv_first1 = Conv2D(32, (4, 1), padding='same')(conv_first1)\n",
    "    conv_first1 = tf.keras.layers.LeakyReLU(alpha=0.01)(conv_first1)\n",
    "    conv_first1 = Conv2D(32, (4, 1), padding='same')(conv_first1)\n",
    "    conv_first1 = tf.keras.layers.LeakyReLU(alpha=0.01)(conv_first1)\n",
    "\n",
    "    conv_first1 = Conv2D(32, (1, 2), strides=(1, 2))(conv_first1) # (batch_size, 100, 10, 32)\n",
    "    conv_first1 = tf.keras.layers.LeakyReLU(alpha=0.01)(conv_first1)\n",
    "    conv_first1 = Conv2D(32, (4, 1), padding='same')(conv_first1)\n",
    "    conv_first1 = tf.keras.layers.LeakyReLU(alpha=0.01)(conv_first1)\n",
    "    conv_first1 = Conv2D(32, (4, 1), padding='same')(conv_first1)\n",
    "    conv_first1 = tf.keras.layers.LeakyReLU(alpha=0.01)(conv_first1)\n",
    "\n",
    "    conv_first1 = Conv2D(32, (1, 10))(conv_first1) # (batch_size, 100, 1, 32)\n",
    "    conv_first1 = tf.keras.layers.LeakyReLU(alpha=0.01)(conv_first1)\n",
    "    conv_first1 = Conv2D(32, (4, 1), padding='same')(conv_first1)\n",
    "    conv_first1 = tf.keras.layers.LeakyReLU(alpha=0.01)(conv_first1)\n",
    "    conv_first1 = Conv2D(32, (4, 1), padding='same')(conv_first1)\n",
    "    conv_first1 = tf.keras.layers.LeakyReLU(alpha=0.01)(conv_first1)\n",
    "\n",
    "    # build the inception module\n",
    "    convsecond_1 = Conv2D(64, (1, 1), padding='same')(conv_first1)# (batch_size, 100, 1, 64)\n",
    "    convsecond_1 = tf.keras.layers.LeakyReLU(alpha=0.01)(convsecond_1)\n",
    "    convsecond_1 = Conv2D(64, (3, 1), padding='same')(convsecond_1)\n",
    "    convsecond_1 = tf.keras.layers.LeakyReLU(alpha=0.01)(convsecond_1)\n",
    "\n",
    "    convsecond_2 = Conv2D(64, (1, 1), padding='same')(conv_first1)# (batch_size, 100, 1, 64)\n",
    "    convsecond_2 = tf.keras.layers.LeakyReLU(alpha=0.01)(convsecond_2)\n",
    "    convsecond_2 = Conv2D(64, (5, 1), padding='same')(convsecond_2)\n",
    "    convsecond_2 = tf.keras.layers.LeakyReLU(alpha=0.01)(convsecond_2)\n",
    "\n",
    "    convsecond_3 = MaxPooling2D((3, 1), strides=(1, 1), padding='same')(conv_first1) # (batch_size, 100, 1, 64)\n",
    "    convsecond_3 = Conv2D(64, (1, 1), padding='same')(convsecond_3)\n",
    "    convsecond_3 = tf.keras.layers.LeakyReLU(alpha=0.01)(convsecond_3)\n",
    "\n",
    "    convsecond_output = tf.keras.layers.concatenate([convsecond_1, convsecond_2, convsecond_3], axis=3) # (batch_size, 100, 1, 192)\n",
    "    conv_reshape = Reshape((int(convsecond_output.shape[1]), int(convsecond_output.shape[3])))(convsecond_output)  # (batch_size, 100, 192)\n",
    "\n",
    "    # build the last LSTM layer\n",
    "    conv_lstm = LSTM(number_of_lstm)(conv_reshape) # (batch_size, 64)\n",
    "\n",
    "    # build the output layer\n",
    "    out = Dense(3, activation='softmax')(conv_lstm) # (batch_size, 3)\n",
    "    model = Model(inputs=input_lmd, outputs=out)\n",
    "    adam = keras.optimizers.Adam(learning_rate=0.001, beta_1=0.9, beta_2=0.999, epsilon=1)\n",
    "    model.compile(optimizer=adam, loss='categorical_crossentropy', metrics=['accuracy'])\n",
    "\n",
    "    return model\n"
   ]
  },
  {
   "cell_type": "markdown",
   "metadata": {},
   "source": [
    "### Keras layers API\n",
    "\n",
    "https://keras.io/api/layers/"
   ]
  },
  {
   "cell_type": "markdown",
   "metadata": {},
   "source": [
    "#### Input object\n",
    "\n",
    "`Input(shape=None)` \n",
    "* `Input()` is used to instantiate a Keras tensor. A Keras tensor is a symbolic tensor-like object, which we augment with certain attributes that allow us to build a Keras model just by knowing the inputs and outputs of the model.\n",
    "   * `shape`: A shape tuple (integers), not including the batch size.\n",
    "\n",
    "https://keras.io/api/layers/core_layers/input/"
   ]
  },
  {
   "cell_type": "code",
   "execution_count": 77,
   "metadata": {},
   "outputs": [],
   "source": [
    "x = tf.constant([[[1., 2., 3.],\n",
    "                 [4., 5., 6.],\n",
    "                 [7., 8., 9.]],\n",
    "                 \n",
    "                 [[1., 2., 3.],\n",
    "                 [4., 5., 6.],\n",
    "                 [7., 8., 9.]]])"
   ]
  },
  {
   "cell_type": "code",
   "execution_count": 80,
   "metadata": {},
   "outputs": [],
   "source": [
    "x=tf.reshape(x, [2, 3, 3, 1])"
   ]
  },
  {
   "cell_type": "code",
   "execution_count": 81,
   "metadata": {},
   "outputs": [
    {
     "data": {
      "text/plain": [
       "<tf.Tensor: id=1323, shape=(2, 3, 3, 1), dtype=float32, numpy=\n",
       "array([[[[1.],\n",
       "         [2.],\n",
       "         [3.]],\n",
       "\n",
       "        [[4.],\n",
       "         [5.],\n",
       "         [6.]],\n",
       "\n",
       "        [[7.],\n",
       "         [8.],\n",
       "         [9.]]],\n",
       "\n",
       "\n",
       "       [[[1.],\n",
       "         [2.],\n",
       "         [3.]],\n",
       "\n",
       "        [[4.],\n",
       "         [5.],\n",
       "         [6.]],\n",
       "\n",
       "        [[7.],\n",
       "         [8.],\n",
       "         [9.]]]], dtype=float32)>"
      ]
     },
     "execution_count": 81,
     "metadata": {},
     "output_type": "execute_result"
    }
   ],
   "source": [
    "x"
   ]
  },
  {
   "cell_type": "code",
   "execution_count": 90,
   "metadata": {},
   "outputs": [],
   "source": [
    "x=tf.keras.layers.Reshape([3,3,1])(x)"
   ]
  },
  {
   "cell_type": "code",
   "execution_count": 91,
   "metadata": {
    "scrolled": true
   },
   "outputs": [
    {
     "data": {
      "text/plain": [
       "<tf.Tensor: id=1397, shape=(2, 3, 3, 1), dtype=float32, numpy=\n",
       "array([[[[1.],\n",
       "         [2.],\n",
       "         [3.]],\n",
       "\n",
       "        [[4.],\n",
       "         [5.],\n",
       "         [6.]],\n",
       "\n",
       "        [[7.],\n",
       "         [8.],\n",
       "         [9.]]],\n",
       "\n",
       "\n",
       "       [[[1.],\n",
       "         [2.],\n",
       "         [3.]],\n",
       "\n",
       "        [[4.],\n",
       "         [5.],\n",
       "         [6.]],\n",
       "\n",
       "        [[7.],\n",
       "         [8.],\n",
       "         [9.]]]], dtype=float32)>"
      ]
     },
     "execution_count": 91,
     "metadata": {},
     "output_type": "execute_result"
    }
   ],
   "source": [
    "x"
   ]
  },
  {
   "cell_type": "markdown",
   "metadata": {},
   "source": [
    "#### Conv2D layer\n",
    "\n",
    "`tf.keras.layers.Conv2D(filters, kernel_size, strides=(1, 1), padding='valid')`\n",
    "* 2D convolution layer.\n",
    "* This layer creates a convolution kernel that is convolved with the layer input to produce a tensor of outputs.\n",
    "* `filters`: Integer, the dimensionality of the output space (i.e. the number of output filters in the convolution).\n",
    "* `kernel_size`: An integer or tuple/list of 2 integers, specifying the height and width of the 2D convolution window.\n",
    "* `strides`: An integer or tuple/list of 2 integers, specifying the strides of the convolution along the height and width.\n",
    "* `padding`: one of `\"valid\"` or `\"same\"` (case-insensitive). \n",
    "\n",
    "https://keras.io/api/layers/convolution_layers/convolution2d/"
   ]
  },
  {
   "cell_type": "code",
   "execution_count": 147,
   "metadata": {
    "scrolled": true
   },
   "outputs": [
    {
     "data": {
      "text/plain": [
       "<tf.Tensor: id=3000, shape=(2, 3, 3, 16), dtype=float32, numpy=\n",
       "array([[[[ 0.02256036, -0.04763192, -0.37105578,  0.10203108,\n",
       "           0.5915518 , -0.4305753 ,  0.3330405 , -0.59057033,\n",
       "           0.80231094,  0.42239928,  0.14835277,  0.75566375,\n",
       "          -0.41989833,  0.70394146,  0.21496657,  0.0541499 ],\n",
       "         [-0.15648721, -0.23902962, -0.788972  , -0.09846756,\n",
       "           1.3815429 , -0.44101706,  0.5103389 , -1.2312247 ,\n",
       "           1.6579247 ,  0.807556  ,  0.6599337 ,  1.3844982 ,\n",
       "          -0.3216521 ,  1.0579752 ,  0.10667959,  0.3310047 ],\n",
       "         [-0.17307481, -0.90741163, -0.6394613 , -1.1054143 ,\n",
       "           1.6324292 , -0.14045012, -0.11338243, -1.1495548 ,\n",
       "           1.3848704 ,  0.54594636,  1.4275559 ,  0.79161835,\n",
       "           0.8729454 ,  0.21263716, -0.99112236,  0.95702004]],\n",
       "\n",
       "        [[ 0.21208641, -0.54826593, -1.0586529 , -0.19671175,\n",
       "           1.9618788 , -1.4890447 ,  0.73139715, -1.8205382 ,\n",
       "           2.362743  ,  1.2045224 ,  0.785442  ,  2.1063693 ,\n",
       "          -0.8573298 ,  1.9162372 ,  0.11773005,  0.47847   ],\n",
       "         [-0.6936299 , -0.8132226 , -2.0427208 , -0.6999634 ,\n",
       "           3.7515163 , -0.4723423 ,  1.0422342 , -3.1531878 ,\n",
       "           4.224766  ,  1.963026  ,  2.1946766 ,  3.2710016 ,\n",
       "          -0.02691352,  2.1200762 , -0.21818131,  1.1615691 ],\n",
       "         [-0.5883726 , -1.839343  , -1.4676397 , -2.3117461 ,\n",
       "           3.598074  ,  0.06148112, -0.18225199, -2.5297747 ,\n",
       "           3.1052105 ,  1.2163417 ,  3.1543298 ,  1.7618358 ,\n",
       "           1.9899476 ,  0.37520942, -2.0581195 ,  2.049455  ]],\n",
       "\n",
       "        [[ 0.40161246, -1.0488999 , -1.74625   , -0.49545455,\n",
       "           3.3322055 , -2.5475142 ,  1.1297538 , -3.050506  ,\n",
       "           3.9231749 ,  1.9866455 ,  1.4225311 ,  3.4570749 ,\n",
       "          -1.2947612 ,  3.128533  ,  0.02049351,  0.90279007],\n",
       "         [-1.2307726 , -1.3874155 , -3.2964694 , -1.3014593 ,\n",
       "           6.121489  , -0.50366765,  1.5741295 , -5.0751505 ,\n",
       "           6.791607  ,  3.1184962 ,  3.7294197 ,  5.157505  ,\n",
       "           0.26782495,  3.1821773 , -0.5430423 ,  1.9921335 ],\n",
       "         [-1.0036702 , -2.771274  , -2.2958183 , -3.518078  ,\n",
       "           5.563719  ,  0.26341242, -0.25112155, -3.9099946 ,\n",
       "           4.8255506 ,  1.8867371 ,  4.8811035 ,  2.7320535 ,\n",
       "           3.1069496 ,  0.5377817 , -3.1251166 ,  3.1418898 ]]],\n",
       "\n",
       "\n",
       "       [[[ 0.02256036, -0.04763192, -0.37105578,  0.10203108,\n",
       "           0.5915518 , -0.4305753 ,  0.3330405 , -0.59057033,\n",
       "           0.80231094,  0.42239928,  0.14835277,  0.75566375,\n",
       "          -0.41989833,  0.70394146,  0.21496657,  0.0541499 ],\n",
       "         [-0.15648721, -0.23902962, -0.788972  , -0.09846756,\n",
       "           1.3815429 , -0.44101706,  0.5103389 , -1.2312247 ,\n",
       "           1.6579247 ,  0.807556  ,  0.6599337 ,  1.3844982 ,\n",
       "          -0.3216521 ,  1.0579752 ,  0.10667959,  0.3310047 ],\n",
       "         [-0.17307481, -0.90741163, -0.6394613 , -1.1054143 ,\n",
       "           1.6324292 , -0.14045012, -0.11338243, -1.1495548 ,\n",
       "           1.3848704 ,  0.54594636,  1.4275559 ,  0.79161835,\n",
       "           0.8729454 ,  0.21263716, -0.99112236,  0.95702004]],\n",
       "\n",
       "        [[ 0.21208641, -0.54826593, -1.0586529 , -0.19671175,\n",
       "           1.9618788 , -1.4890447 ,  0.73139715, -1.8205382 ,\n",
       "           2.362743  ,  1.2045224 ,  0.785442  ,  2.1063693 ,\n",
       "          -0.8573298 ,  1.9162372 ,  0.11773005,  0.47847   ],\n",
       "         [-0.6936299 , -0.8132226 , -2.0427208 , -0.6999634 ,\n",
       "           3.7515163 , -0.4723423 ,  1.0422342 , -3.1531878 ,\n",
       "           4.224766  ,  1.963026  ,  2.1946766 ,  3.2710016 ,\n",
       "          -0.02691352,  2.1200762 , -0.21818131,  1.1615691 ],\n",
       "         [-0.5883726 , -1.839343  , -1.4676397 , -2.3117461 ,\n",
       "           3.598074  ,  0.06148112, -0.18225199, -2.5297747 ,\n",
       "           3.1052105 ,  1.2163417 ,  3.1543298 ,  1.7618358 ,\n",
       "           1.9899476 ,  0.37520942, -2.0581195 ,  2.049455  ]],\n",
       "\n",
       "        [[ 0.40161246, -1.0488999 , -1.74625   , -0.49545455,\n",
       "           3.3322055 , -2.5475142 ,  1.1297538 , -3.050506  ,\n",
       "           3.9231749 ,  1.9866455 ,  1.4225311 ,  3.4570749 ,\n",
       "          -1.2947612 ,  3.128533  ,  0.02049351,  0.90279007],\n",
       "         [-1.2307726 , -1.3874155 , -3.2964694 , -1.3014593 ,\n",
       "           6.121489  , -0.50366765,  1.5741295 , -5.0751505 ,\n",
       "           6.791607  ,  3.1184962 ,  3.7294197 ,  5.157505  ,\n",
       "           0.26782495,  3.1821773 , -0.5430423 ,  1.9921335 ],\n",
       "         [-1.0036702 , -2.771274  , -2.2958183 , -3.518078  ,\n",
       "           5.563719  ,  0.26341242, -0.25112155, -3.9099946 ,\n",
       "           4.8255506 ,  1.8867371 ,  4.8811035 ,  2.7320535 ,\n",
       "           3.1069496 ,  0.5377817 , -3.1251166 ,  3.1418898 ]]]],\n",
       "      dtype=float32)>"
      ]
     },
     "execution_count": 147,
     "metadata": {},
     "output_type": "execute_result"
    }
   ],
   "source": [
    "tf.random.set_seed(2)\n",
    "tf.keras.layers.Conv2D(16, (1,3), strides=(1, 1), padding='same')(x)"
   ]
  },
  {
   "cell_type": "code",
   "execution_count": 124,
   "metadata": {},
   "outputs": [
    {
     "data": {
      "text/plain": [
       "TensorShape([2, 3, 3, 16])"
      ]
     },
     "execution_count": 124,
     "metadata": {},
     "output_type": "execute_result"
    }
   ],
   "source": [
    "tf.keras.layers.Conv2D(16, (1,3), padding='same')(x).shape"
   ]
  },
  {
   "cell_type": "code",
   "execution_count": 122,
   "metadata": {},
   "outputs": [
    {
     "data": {
      "text/plain": [
       "TensorShape([2, 2, 2, 16])"
      ]
     },
     "execution_count": 122,
     "metadata": {},
     "output_type": "execute_result"
    }
   ],
   "source": [
    "tf.keras.layers.Conv2D(16, (1,3), strides=(2,2),padding='same')(x).shape"
   ]
  },
  {
   "cell_type": "code",
   "execution_count": 125,
   "metadata": {},
   "outputs": [
    {
     "data": {
      "text/plain": [
       "TensorShape([2, 3, 1, 16])"
      ]
     },
     "execution_count": 125,
     "metadata": {},
     "output_type": "execute_result"
    }
   ],
   "source": [
    "tf.keras.layers.Conv2D(16, (1,3), padding='valid')(x).shape"
   ]
  },
  {
   "cell_type": "code",
   "execution_count": 123,
   "metadata": {},
   "outputs": [
    {
     "data": {
      "text/plain": [
       "TensorShape([2, 2, 1, 16])"
      ]
     },
     "execution_count": 123,
     "metadata": {},
     "output_type": "execute_result"
    }
   ],
   "source": [
    "tf.keras.layers.Conv2D(16, (1,3), strides=(2,2),padding='valid')(x).shape"
   ]
  },
  {
   "cell_type": "code",
   "execution_count": 95,
   "metadata": {},
   "outputs": [
    {
     "data": {
      "text/plain": [
       "TensorShape([2, 3, 3, 16])"
      ]
     },
     "execution_count": 95,
     "metadata": {},
     "output_type": "execute_result"
    }
   ],
   "source": [
    "tf.keras.layers.Conv2D(16, (1,3), strides=(1, 1), padding='same')(x).shape"
   ]
  },
  {
   "cell_type": "markdown",
   "metadata": {},
   "source": [
    "#### LeakyReLU layer\n",
    "\n",
    "`tf.keras.layers.LeakyReLU(alpha=0.3, **kwargs)`\n",
    "* Leaky version of a Rectified Linear Unit. It allows a small gradient when the unit is not active.\n",
    "* `alpha`: Float >= 0. Negative slope coefficient. Default to 0.3.\n",
    "\n",
    "\n",
    "https://keras.io/api/layers/activation_layers/leaky_relu/"
   ]
  },
  {
   "cell_type": "code",
   "execution_count": 146,
   "metadata": {
    "scrolled": true
   },
   "outputs": [
    {
     "data": {
      "text/plain": [
       "<tf.Tensor: id=2973, shape=(2, 3, 3, 16), dtype=float32, numpy=\n",
       "array([[[[ 0.02256036, -0.04763192, -0.37105578,  0.10203108,\n",
       "           0.5915518 , -0.4305753 ,  0.3330405 , -0.59057033,\n",
       "           0.80231094,  0.42239928,  0.14835277,  0.75566375,\n",
       "          -0.41989833,  0.70394146,  0.21496657,  0.0541499 ],\n",
       "         [-0.15648721, -0.23902962, -0.788972  , -0.09846756,\n",
       "           1.3815429 , -0.44101706,  0.5103389 , -1.2312247 ,\n",
       "           1.6579247 ,  0.807556  ,  0.6599337 ,  1.3844982 ,\n",
       "          -0.3216521 ,  1.0579752 ,  0.10667959,  0.3310047 ],\n",
       "         [-0.17307481, -0.90741163, -0.6394613 , -1.1054143 ,\n",
       "           1.6324292 , -0.14045012, -0.11338243, -1.1495548 ,\n",
       "           1.3848704 ,  0.54594636,  1.4275559 ,  0.79161835,\n",
       "           0.8729454 ,  0.21263716, -0.99112236,  0.95702004]],\n",
       "\n",
       "        [[ 0.21208641, -0.54826593, -1.0586529 , -0.19671175,\n",
       "           1.9618788 , -1.4890447 ,  0.73139715, -1.8205382 ,\n",
       "           2.362743  ,  1.2045224 ,  0.785442  ,  2.1063693 ,\n",
       "          -0.8573298 ,  1.9162372 ,  0.11773005,  0.47847   ],\n",
       "         [-0.6936299 , -0.8132226 , -2.0427208 , -0.6999634 ,\n",
       "           3.7515163 , -0.4723423 ,  1.0422342 , -3.1531878 ,\n",
       "           4.224766  ,  1.963026  ,  2.1946766 ,  3.2710016 ,\n",
       "          -0.02691352,  2.1200762 , -0.21818131,  1.1615691 ],\n",
       "         [-0.5883726 , -1.839343  , -1.4676397 , -2.3117461 ,\n",
       "           3.598074  ,  0.06148112, -0.18225199, -2.5297747 ,\n",
       "           3.1052105 ,  1.2163417 ,  3.1543298 ,  1.7618358 ,\n",
       "           1.9899476 ,  0.37520942, -2.0581195 ,  2.049455  ]],\n",
       "\n",
       "        [[ 0.40161246, -1.0488999 , -1.74625   , -0.49545455,\n",
       "           3.3322055 , -2.5475142 ,  1.1297538 , -3.050506  ,\n",
       "           3.9231749 ,  1.9866455 ,  1.4225311 ,  3.4570749 ,\n",
       "          -1.2947612 ,  3.128533  ,  0.02049351,  0.90279007],\n",
       "         [-1.2307726 , -1.3874155 , -3.2964694 , -1.3014593 ,\n",
       "           6.121489  , -0.50366765,  1.5741295 , -5.0751505 ,\n",
       "           6.791607  ,  3.1184962 ,  3.7294197 ,  5.157505  ,\n",
       "           0.26782495,  3.1821773 , -0.5430423 ,  1.9921335 ],\n",
       "         [-1.0036702 , -2.771274  , -2.2958183 , -3.518078  ,\n",
       "           5.563719  ,  0.26341242, -0.25112155, -3.9099946 ,\n",
       "           4.8255506 ,  1.8867371 ,  4.8811035 ,  2.7320535 ,\n",
       "           3.1069496 ,  0.5377817 , -3.1251166 ,  3.1418898 ]]],\n",
       "\n",
       "\n",
       "       [[[ 0.02256036, -0.04763192, -0.37105578,  0.10203108,\n",
       "           0.5915518 , -0.4305753 ,  0.3330405 , -0.59057033,\n",
       "           0.80231094,  0.42239928,  0.14835277,  0.75566375,\n",
       "          -0.41989833,  0.70394146,  0.21496657,  0.0541499 ],\n",
       "         [-0.15648721, -0.23902962, -0.788972  , -0.09846756,\n",
       "           1.3815429 , -0.44101706,  0.5103389 , -1.2312247 ,\n",
       "           1.6579247 ,  0.807556  ,  0.6599337 ,  1.3844982 ,\n",
       "          -0.3216521 ,  1.0579752 ,  0.10667959,  0.3310047 ],\n",
       "         [-0.17307481, -0.90741163, -0.6394613 , -1.1054143 ,\n",
       "           1.6324292 , -0.14045012, -0.11338243, -1.1495548 ,\n",
       "           1.3848704 ,  0.54594636,  1.4275559 ,  0.79161835,\n",
       "           0.8729454 ,  0.21263716, -0.99112236,  0.95702004]],\n",
       "\n",
       "        [[ 0.21208641, -0.54826593, -1.0586529 , -0.19671175,\n",
       "           1.9618788 , -1.4890447 ,  0.73139715, -1.8205382 ,\n",
       "           2.362743  ,  1.2045224 ,  0.785442  ,  2.1063693 ,\n",
       "          -0.8573298 ,  1.9162372 ,  0.11773005,  0.47847   ],\n",
       "         [-0.6936299 , -0.8132226 , -2.0427208 , -0.6999634 ,\n",
       "           3.7515163 , -0.4723423 ,  1.0422342 , -3.1531878 ,\n",
       "           4.224766  ,  1.963026  ,  2.1946766 ,  3.2710016 ,\n",
       "          -0.02691352,  2.1200762 , -0.21818131,  1.1615691 ],\n",
       "         [-0.5883726 , -1.839343  , -1.4676397 , -2.3117461 ,\n",
       "           3.598074  ,  0.06148112, -0.18225199, -2.5297747 ,\n",
       "           3.1052105 ,  1.2163417 ,  3.1543298 ,  1.7618358 ,\n",
       "           1.9899476 ,  0.37520942, -2.0581195 ,  2.049455  ]],\n",
       "\n",
       "        [[ 0.40161246, -1.0488999 , -1.74625   , -0.49545455,\n",
       "           3.3322055 , -2.5475142 ,  1.1297538 , -3.050506  ,\n",
       "           3.9231749 ,  1.9866455 ,  1.4225311 ,  3.4570749 ,\n",
       "          -1.2947612 ,  3.128533  ,  0.02049351,  0.90279007],\n",
       "         [-1.2307726 , -1.3874155 , -3.2964694 , -1.3014593 ,\n",
       "           6.121489  , -0.50366765,  1.5741295 , -5.0751505 ,\n",
       "           6.791607  ,  3.1184962 ,  3.7294197 ,  5.157505  ,\n",
       "           0.26782495,  3.1821773 , -0.5430423 ,  1.9921335 ],\n",
       "         [-1.0036702 , -2.771274  , -2.2958183 , -3.518078  ,\n",
       "           5.563719  ,  0.26341242, -0.25112155, -3.9099946 ,\n",
       "           4.8255506 ,  1.8867371 ,  4.8811035 ,  2.7320535 ,\n",
       "           3.1069496 ,  0.5377817 , -3.1251166 ,  3.1418898 ]]]],\n",
       "      dtype=float32)>"
      ]
     },
     "execution_count": 146,
     "metadata": {},
     "output_type": "execute_result"
    }
   ],
   "source": [
    "tf.random.set_seed(2)\n",
    "tf.keras.layers.Conv2D(16, (1,3), strides=(1, 1), padding='same')(x)"
   ]
  },
  {
   "cell_type": "code",
   "execution_count": 145,
   "metadata": {
    "scrolled": true
   },
   "outputs": [
    {
     "data": {
      "text/plain": [
       "<tf.Tensor: id=2946, shape=(2, 3, 3, 16), dtype=float32, numpy=\n",
       "array([[[[0.02256036, 0.        , 0.        , 0.10203108, 0.5915518 ,\n",
       "          0.        , 0.3330405 , 0.        , 0.80231094, 0.42239928,\n",
       "          0.14835277, 0.75566375, 0.        , 0.70394146, 0.21496657,\n",
       "          0.0541499 ],\n",
       "         [0.        , 0.        , 0.        , 0.        , 1.3815429 ,\n",
       "          0.        , 0.5103389 , 0.        , 1.6579247 , 0.807556  ,\n",
       "          0.6599337 , 1.3844982 , 0.        , 1.0579752 , 0.10667959,\n",
       "          0.3310047 ],\n",
       "         [0.        , 0.        , 0.        , 0.        , 1.6324292 ,\n",
       "          0.        , 0.        , 0.        , 1.3848704 , 0.54594636,\n",
       "          1.4275559 , 0.79161835, 0.8729454 , 0.21263716, 0.        ,\n",
       "          0.95702004]],\n",
       "\n",
       "        [[0.21208641, 0.        , 0.        , 0.        , 1.9618788 ,\n",
       "          0.        , 0.73139715, 0.        , 2.362743  , 1.2045224 ,\n",
       "          0.785442  , 2.1063693 , 0.        , 1.9162372 , 0.11773005,\n",
       "          0.47847   ],\n",
       "         [0.        , 0.        , 0.        , 0.        , 3.7515163 ,\n",
       "          0.        , 1.0422342 , 0.        , 4.224766  , 1.963026  ,\n",
       "          2.1946766 , 3.2710016 , 0.        , 2.1200762 , 0.        ,\n",
       "          1.1615691 ],\n",
       "         [0.        , 0.        , 0.        , 0.        , 3.598074  ,\n",
       "          0.06148112, 0.        , 0.        , 3.1052105 , 1.2163417 ,\n",
       "          3.1543298 , 1.7618358 , 1.9899476 , 0.37520942, 0.        ,\n",
       "          2.049455  ]],\n",
       "\n",
       "        [[0.40161246, 0.        , 0.        , 0.        , 3.3322055 ,\n",
       "          0.        , 1.1297538 , 0.        , 3.9231749 , 1.9866455 ,\n",
       "          1.4225311 , 3.4570749 , 0.        , 3.128533  , 0.02049351,\n",
       "          0.90279007],\n",
       "         [0.        , 0.        , 0.        , 0.        , 6.121489  ,\n",
       "          0.        , 1.5741295 , 0.        , 6.791607  , 3.1184962 ,\n",
       "          3.7294197 , 5.157505  , 0.26782495, 3.1821773 , 0.        ,\n",
       "          1.9921335 ],\n",
       "         [0.        , 0.        , 0.        , 0.        , 5.563719  ,\n",
       "          0.26341242, 0.        , 0.        , 4.8255506 , 1.8867371 ,\n",
       "          4.8811035 , 2.7320535 , 3.1069496 , 0.5377817 , 0.        ,\n",
       "          3.1418898 ]]],\n",
       "\n",
       "\n",
       "       [[[0.02256036, 0.        , 0.        , 0.10203108, 0.5915518 ,\n",
       "          0.        , 0.3330405 , 0.        , 0.80231094, 0.42239928,\n",
       "          0.14835277, 0.75566375, 0.        , 0.70394146, 0.21496657,\n",
       "          0.0541499 ],\n",
       "         [0.        , 0.        , 0.        , 0.        , 1.3815429 ,\n",
       "          0.        , 0.5103389 , 0.        , 1.6579247 , 0.807556  ,\n",
       "          0.6599337 , 1.3844982 , 0.        , 1.0579752 , 0.10667959,\n",
       "          0.3310047 ],\n",
       "         [0.        , 0.        , 0.        , 0.        , 1.6324292 ,\n",
       "          0.        , 0.        , 0.        , 1.3848704 , 0.54594636,\n",
       "          1.4275559 , 0.79161835, 0.8729454 , 0.21263716, 0.        ,\n",
       "          0.95702004]],\n",
       "\n",
       "        [[0.21208641, 0.        , 0.        , 0.        , 1.9618788 ,\n",
       "          0.        , 0.73139715, 0.        , 2.362743  , 1.2045224 ,\n",
       "          0.785442  , 2.1063693 , 0.        , 1.9162372 , 0.11773005,\n",
       "          0.47847   ],\n",
       "         [0.        , 0.        , 0.        , 0.        , 3.7515163 ,\n",
       "          0.        , 1.0422342 , 0.        , 4.224766  , 1.963026  ,\n",
       "          2.1946766 , 3.2710016 , 0.        , 2.1200762 , 0.        ,\n",
       "          1.1615691 ],\n",
       "         [0.        , 0.        , 0.        , 0.        , 3.598074  ,\n",
       "          0.06148112, 0.        , 0.        , 3.1052105 , 1.2163417 ,\n",
       "          3.1543298 , 1.7618358 , 1.9899476 , 0.37520942, 0.        ,\n",
       "          2.049455  ]],\n",
       "\n",
       "        [[0.40161246, 0.        , 0.        , 0.        , 3.3322055 ,\n",
       "          0.        , 1.1297538 , 0.        , 3.9231749 , 1.9866455 ,\n",
       "          1.4225311 , 3.4570749 , 0.        , 3.128533  , 0.02049351,\n",
       "          0.90279007],\n",
       "         [0.        , 0.        , 0.        , 0.        , 6.121489  ,\n",
       "          0.        , 1.5741295 , 0.        , 6.791607  , 3.1184962 ,\n",
       "          3.7294197 , 5.157505  , 0.26782495, 3.1821773 , 0.        ,\n",
       "          1.9921335 ],\n",
       "         [0.        , 0.        , 0.        , 0.        , 5.563719  ,\n",
       "          0.26341242, 0.        , 0.        , 4.8255506 , 1.8867371 ,\n",
       "          4.8811035 , 2.7320535 , 3.1069496 , 0.5377817 , 0.        ,\n",
       "          3.1418898 ]]]], dtype=float32)>"
      ]
     },
     "execution_count": 145,
     "metadata": {},
     "output_type": "execute_result"
    }
   ],
   "source": [
    "tf.random.set_seed(2)\n",
    "tf.keras.layers.LeakyReLU(alpha=0)(tf.keras.layers.Conv2D(16, (1,3), strides=(1, 1), padding='same')(x))"
   ]
  },
  {
   "cell_type": "markdown",
   "metadata": {},
   "source": [
    "#### MaxPooling2D layer\n",
    "\n",
    "`tf.keras.layers.MaxPooling2D(pool_size=(2, 2), strides=None, padding=\"valid\")`\n",
    "* Max pooling operation for 2D spatial data.\n",
    "* Downsamples the input along its spatial dimensions (height and width) by taking the maximum value over an input window (of size defined by `pool_size`) for each channel of the input. The window is shifted by strides along each dimension.\n",
    "* The resulting output, when using the `\"valid\"` padding option, has a spatial shape (number of rows or columns) of: `output_shape = math.floor((input_shape - pool_size) / strides) + 1 (when input_shape >= pool_size)`\n",
    "* The resulting output shape when using the `\"same\"` padding option is: `output_shape = math.floor((input_shape - 1) / strides) + 1`\n",
    "* `pool_size`: integer or tuple of 2 integers, window size over which to take the maximum. (2, 2) will take the max value over a 2x2 pooling window. If only one integer is specified, the same window length will be used for both dimensions.\n",
    "* `strides`: Integer, tuple of 2 integers, or None. Strides values. Specifies how far the pooling window moves for each pooling step. If None, it will default to pool_size.\n",
    "* `padding`: One of `\"valid\"` or `\"same\"` (case-insensitive). `\"valid\"` means no padding. `\"same\"` results in padding evenly to the left/right or up/down of the input such that output has the same height/width dimension as the input.\n",
    "\n",
    "https://keras.io/api/layers/pooling_layers/max_pooling2d/"
   ]
  },
  {
   "cell_type": "code",
   "execution_count": 168,
   "metadata": {},
   "outputs": [
    {
     "data": {
      "text/plain": [
       "<tf.Tensor: id=3094, shape=(3, 3), dtype=float32, numpy=\n",
       "array([[1., 2., 3.],\n",
       "       [4., 5., 6.],\n",
       "       [7., 8., 9.]], dtype=float32)>"
      ]
     },
     "execution_count": 168,
     "metadata": {},
     "output_type": "execute_result"
    }
   ],
   "source": [
    " x = tf.constant([[1., 2., 3.],\n",
    "                  [4., 5., 6.],\n",
    "                  [7., 8., 9.]])\n",
    "x"
   ]
  },
  {
   "cell_type": "code",
   "execution_count": 170,
   "metadata": {},
   "outputs": [
    {
     "data": {
      "text/plain": [
       "<tf.Tensor: id=3098, shape=(1, 3, 3, 1), dtype=float32, numpy=\n",
       "array([[[[1.],\n",
       "         [2.],\n",
       "         [3.]],\n",
       "\n",
       "        [[4.],\n",
       "         [5.],\n",
       "         [6.]],\n",
       "\n",
       "        [[7.],\n",
       "         [8.],\n",
       "         [9.]]]], dtype=float32)>"
      ]
     },
     "execution_count": 170,
     "metadata": {},
     "output_type": "execute_result"
    }
   ],
   "source": [
    "x=tf.reshape(x, [1, 3, 3, 1])\n",
    "x"
   ]
  },
  {
   "cell_type": "code",
   "execution_count": 172,
   "metadata": {},
   "outputs": [
    {
     "data": {
      "text/plain": [
       "<tf.Tensor: id=3100, shape=(1, 2, 2, 1), dtype=float32, numpy=\n",
       "array([[[[5.],\n",
       "         [6.]],\n",
       "\n",
       "        [[8.],\n",
       "         [9.]]]], dtype=float32)>"
      ]
     },
     "execution_count": 172,
     "metadata": {},
     "output_type": "execute_result"
    }
   ],
   "source": [
    "max_pool_2d = tf.keras.layers.MaxPooling2D(pool_size=(2, 2), strides=(1, 1), padding='valid')\n",
    "max_pool_2d(x)"
   ]
  },
  {
   "cell_type": "code",
   "execution_count": 171,
   "metadata": {
    "scrolled": true
   },
   "outputs": [
    {
     "data": {
      "text/plain": [
       "<tf.Tensor: id=3099, shape=(1, 3, 3, 1), dtype=float32, numpy=\n",
       "array([[[[5.],\n",
       "         [6.],\n",
       "         [6.]],\n",
       "\n",
       "        [[8.],\n",
       "         [9.],\n",
       "         [9.]],\n",
       "\n",
       "        [[8.],\n",
       "         [9.],\n",
       "         [9.]]]], dtype=float32)>"
      ]
     },
     "execution_count": 171,
     "metadata": {},
     "output_type": "execute_result"
    }
   ],
   "source": [
    "max_pool_2d = tf.keras.layers.MaxPooling2D(pool_size=(2, 2), strides=(1, 1), padding='same')\n",
    "max_pool_2d(x)"
   ]
  },
  {
   "cell_type": "markdown",
   "metadata": {},
   "source": [
    "#### Concatenate layer\n",
    "\n",
    "`tf.keras.layers.concatenate(axis=-1, **kwargs)`\n",
    "\n",
    "* Layer that concatenates a list of inputs.\n",
    "* It takes as input a list of tensors, all of the same shape except for the concatenation axis, and returns a single tensor that is the concatenation of all inputs.\n",
    "\n",
    "https://keras.io/api/layers/merging_layers/concatenate/"
   ]
  },
  {
   "cell_type": "code",
   "execution_count": 23,
   "metadata": {
    "scrolled": true
   },
   "outputs": [
    {
     "name": "stdout",
     "output_type": "stream",
     "text": [
      "[[[ 0  1  2  3  4]\n",
      "  [ 5  6  7  8  9]]\n",
      "\n",
      " [[10 11 12 13 14]\n",
      "  [15 16 17 18 19]]]\n"
     ]
    }
   ],
   "source": [
    "x = np.arange(20).reshape(2, 2, 5)\n",
    "print(x)"
   ]
  },
  {
   "cell_type": "code",
   "execution_count": 24,
   "metadata": {
    "scrolled": false
   },
   "outputs": [
    {
     "name": "stdout",
     "output_type": "stream",
     "text": [
      "[[[20 21 22 23 24]]\n",
      "\n",
      " [[25 26 27 28 29]]]\n"
     ]
    }
   ],
   "source": [
    "y = np.arange(20, 30).reshape(2, 1, 5)\n",
    "print(y)"
   ]
  },
  {
   "cell_type": "code",
   "execution_count": 28,
   "metadata": {
    "scrolled": false
   },
   "outputs": [
    {
     "data": {
      "text/plain": [
       "<tf.Tensor: id=1246, shape=(2, 3, 5), dtype=int32, numpy=\n",
       "array([[[ 0,  1,  2,  3,  4],\n",
       "        [ 5,  6,  7,  8,  9],\n",
       "        [20, 21, 22, 23, 24]],\n",
       "\n",
       "       [[10, 11, 12, 13, 14],\n",
       "        [15, 16, 17, 18, 19],\n",
       "        [25, 26, 27, 28, 29]]])>"
      ]
     },
     "execution_count": 28,
     "metadata": {},
     "output_type": "execute_result"
    }
   ],
   "source": [
    "tf.keras.layers.Concatenate(axis=1)([x, y])"
   ]
  },
  {
   "cell_type": "markdown",
   "metadata": {},
   "source": [
    "#### Reshape layer\n",
    "\n",
    "`tf.keras.layers.Reshape(target_shape)`\n",
    "* Layer that reshapes inputs into the given shape.\n",
    "* Input shape: Arbitrary, although all dimensions in the input shape must be known/fixed. Use the keyword argument `input_shape` (tuple of integers, does not include the samples/batch size axis) when using this layer as the first layer in a model.\n",
    "* `Output shape: (batch_size,) + target_shape`\n",
    "\n",
    "https://keras.io/api/layers/reshaping_layers/reshape/"
   ]
  },
  {
   "cell_type": "markdown",
   "metadata": {},
   "source": [
    "#### LSTM layer\n",
    "\n",
    "`LSTM(units)`\n",
    "\n",
    "* `units`. Positive integer, dimensionality of the output space.\n",
    "\n",
    "https://stats.stackexchange.com/questions/405163/what-is-the-output-of-an-lstm\n",
    "\n",
    "https://keras.io/api/layers/recurrent_layers/lstm/\n",
    "\n",
    "https://colab.research.google.com/github/kmkarakaya/ML_tutorials/blob/master/LSTM_Understanding_Output_Types.ipynb"
   ]
  },
  {
   "cell_type": "code",
   "execution_count": 173,
   "metadata": {
    "scrolled": false
   },
   "outputs": [],
   "source": [
    "tf.random.set_seed(2)\n",
    "inputs = tf.random.normal([32, 10, 8])\n",
    "lstm = tf.keras.layers.LSTM(4)\n",
    "output = lstm(inputs)"
   ]
  },
  {
   "cell_type": "code",
   "execution_count": 174,
   "metadata": {},
   "outputs": [
    {
     "data": {
      "text/plain": [
       "TensorShape([32, 4])"
      ]
     },
     "execution_count": 174,
     "metadata": {},
     "output_type": "execute_result"
    }
   ],
   "source": [
    "output.shape"
   ]
  },
  {
   "cell_type": "code",
   "execution_count": 175,
   "metadata": {
    "scrolled": true
   },
   "outputs": [
    {
     "data": {
      "text/plain": [
       "<tf.Tensor: id=3501, shape=(32, 4), dtype=float32, numpy=\n",
       "array([[ 0.09413459, -0.17695509, -0.18305953, -0.31181994],\n",
       "       [-0.08445209,  0.2748353 ,  0.12777619,  0.0444978 ],\n",
       "       [ 0.03007457, -0.13513406, -0.21724427, -0.04993619],\n",
       "       [ 0.3366659 , -0.03555514, -0.15768133,  0.03883805],\n",
       "       [ 0.44277942, -0.11839138, -0.1934308 ,  0.09702534],\n",
       "       [-0.22052634,  0.23573917,  0.09343931, -0.24706258],\n",
       "       [-0.15747093,  0.04004642,  0.1250249 , -0.2187701 ],\n",
       "       [ 0.11924846, -0.11971949, -0.02756443,  0.31493527],\n",
       "       [ 0.07165063, -0.21045978, -0.1805625 ,  0.09383859],\n",
       "       [ 0.42524016, -0.15774517, -0.04876529,  0.1422765 ],\n",
       "       [ 0.147457  , -0.02021897, -0.04197685,  0.470117  ],\n",
       "       [-0.08220198,  0.02921901,  0.19284774, -0.25388905],\n",
       "       [-0.4847142 ,  0.1034104 ,  0.03589425, -0.7184677 ],\n",
       "       [-0.32839295,  0.16934715,  0.19576101, -0.07985481],\n",
       "       [ 0.38353828, -0.23423022, -0.08337194,  0.04048729],\n",
       "       [ 0.32051775,  0.10870657, -0.02440415, -0.41998932],\n",
       "       [-0.25365096,  0.21510237, -0.21699165, -0.4319655 ],\n",
       "       [-0.07662447, -0.20532887, -0.11662315,  0.11575609],\n",
       "       [-0.08892885,  0.06902733, -0.24488561, -0.03022939],\n",
       "       [ 0.24611883, -0.20049463, -0.04564781, -0.12469783],\n",
       "       [-0.20853353, -0.0008063 ,  0.09146068, -0.06301222],\n",
       "       [ 0.26786664,  0.03207983, -0.00480978,  0.03015074],\n",
       "       [-0.20495075,  0.2940238 , -0.35768193, -0.33188266],\n",
       "       [-0.16173227, -0.02218543,  0.03700474,  0.03438582],\n",
       "       [ 0.00587774, -0.04242285,  0.21595307,  0.10042149],\n",
       "       [ 0.08164195,  0.05544042, -0.25610358,  0.03395299],\n",
       "       [-0.04043716, -0.03012915, -0.04574387,  0.03740431],\n",
       "       [-0.1059464 ,  0.06110832,  0.32224652, -0.06774061],\n",
       "       [ 0.31119233,  0.14347105, -0.23376097, -0.30391395],\n",
       "       [-0.159461  , -0.09519524,  0.05039086,  0.03985957],\n",
       "       [-0.01452617, -0.02905003,  0.12263881, -0.16877279],\n",
       "       [-0.04940316, -0.08586378, -0.31510133, -0.09897452]],\n",
       "      dtype=float32)>"
      ]
     },
     "execution_count": 175,
     "metadata": {},
     "output_type": "execute_result"
    }
   ],
   "source": [
    "output"
   ]
  },
  {
   "cell_type": "markdown",
   "metadata": {},
   "source": [
    "#### Dense layer\n",
    "\n",
    "`tf.keras.layers.Dense(units, activation=None)`\n",
    "\n",
    "* Just your regular densely-connected NN layer.\n",
    "* `Dense` implements the operation: `output = activation(dot(input, kernel) + bias)` where `activation` is the element-wise activation function passed as the `activation` argument, `kernel` is a weights matrix created by the layer, and `bias` is a bias vector created by the layer (only applicable if `use_bias` is `True`).\n",
    "* `units`: Positive integer, dimensionality of the output space.\n",
    "* `activation`: Activation function to use. If you don't specify anything, no activation is applied (ie. `\"linear\"` activation: `a(x) = x`).\n",
    "\n",
    "\n",
    "\n",
    "https://keras.io/api/layers/core_layers/dense/"
   ]
  },
  {
   "cell_type": "code",
   "execution_count": 176,
   "metadata": {
    "scrolled": false
   },
   "outputs": [
    {
     "data": {
      "text/plain": [
       "<tf.Tensor: id=3098, shape=(1, 3, 3, 1), dtype=float32, numpy=\n",
       "array([[[[1.],\n",
       "         [2.],\n",
       "         [3.]],\n",
       "\n",
       "        [[4.],\n",
       "         [5.],\n",
       "         [6.]],\n",
       "\n",
       "        [[7.],\n",
       "         [8.],\n",
       "         [9.]]]], dtype=float32)>"
      ]
     },
     "execution_count": 176,
     "metadata": {},
     "output_type": "execute_result"
    }
   ],
   "source": [
    "x"
   ]
  },
  {
   "cell_type": "code",
   "execution_count": 178,
   "metadata": {},
   "outputs": [
    {
     "data": {
      "text/plain": [
       "<tf.Tensor: id=3576, shape=(1, 3, 3, 3), dtype=float32, numpy=\n",
       "array([[[[-0.8649089 , -0.08755267, -0.67385525],\n",
       "         [-1.7298177 , -0.17510533, -1.3477105 ],\n",
       "         [-2.5947266 , -0.262658  , -2.0215657 ]],\n",
       "\n",
       "        [[-3.4596355 , -0.35021067, -2.695421  ],\n",
       "         [-4.3245444 , -0.43776333, -3.3692763 ],\n",
       "         [-5.189453  , -0.525316  , -4.0431314 ]],\n",
       "\n",
       "        [[-6.0543623 , -0.61286867, -4.7169867 ],\n",
       "         [-6.919271  , -0.70042133, -5.390842  ],\n",
       "         [-7.7841797 , -0.787974  , -6.0646973 ]]]], dtype=float32)>"
      ]
     },
     "execution_count": 178,
     "metadata": {},
     "output_type": "execute_result"
    }
   ],
   "source": [
    "tf.random.set_seed(2)\n",
    "tf.keras.layers.Dense(3)(x)"
   ]
  },
  {
   "cell_type": "code",
   "execution_count": 179,
   "metadata": {},
   "outputs": [
    {
     "data": {
      "text/plain": [
       "<tf.Tensor: id=3615, shape=(1, 3, 3, 3), dtype=float32, numpy=\n",
       "array([[[[0.33333334, 0.33333334, 0.33333334],\n",
       "         [0.33333334, 0.33333334, 0.33333334],\n",
       "         [0.33333334, 0.33333334, 0.33333334]],\n",
       "\n",
       "        [[0.33333334, 0.33333334, 0.33333334],\n",
       "         [0.33333334, 0.33333334, 0.33333334],\n",
       "         [0.33333334, 0.33333334, 0.33333334]],\n",
       "\n",
       "        [[0.33333334, 0.33333334, 0.33333334],\n",
       "         [0.33333334, 0.33333334, 0.33333334],\n",
       "         [0.33333334, 0.33333334, 0.33333334]]]], dtype=float32)>"
      ]
     },
     "execution_count": 179,
     "metadata": {},
     "output_type": "execute_result"
    }
   ],
   "source": [
    "tf.random.set_seed(2)\n",
    "tf.keras.layers.Dense(3, activation='softmax',kernel_initializer='ones')(x)"
   ]
  },
  {
   "cell_type": "markdown",
   "metadata": {},
   "source": [
    "#### The Model class\n",
    "\n",
    "Model groups layers into an object with training and inference features.\n",
    "* `inputs`: The input(s) of the model: a `keras.Input` object or list of `keras.Input` objects.\n",
    "* `outputs`: The output(s) of the model.\n",
    "* `name`: String, the name of the model.\n",
    "* Once the model is created, you can config the model with losses and metrics with `model.compile()`, train the model with `model.fit()`, or use the model to do prediction with `model.predict()`.\n",
    "* `summary` method\n",
    "    * `Model.summary()`\n",
    "    * Prints a string summary of the network.\n",
    "    \n",
    "https://keras.io/api/models/model/\n",
    "\n",
    "https://keras.io/api/models/"
   ]
  },
  {
   "cell_type": "markdown",
   "metadata": {},
   "source": [
    "##### compile method\n",
    "\n",
    "`Model.compile(optimizer=\"rmsprop\", loss=None, metrics=None)`\n",
    "* Configures the model for training.\n",
    "* `optimizer`: String (name of optimizer) or optimizer instance. See `tf.keras.optimizers`.\n",
    "* `loss`: Loss function. Maybe be a string (name of loss function), or a `tf.keras.losses.Loss` instance. See [`tf.keras.losses`](https://keras.io/api/losses/). A loss function is any callable with the signature `loss = fn(y_true, y_pred)`, where `y_true` are the ground truth values, and `y_pred` are the model's predictions. `y_true` should have shape `(batch_size, d0, .. dN)`. `y_pred` should have shape `(batch_size, d0, .. dN)`. The loss function should return a float tensor. \n",
    "* `metrics`: List of metrics to be evaluated by the model during training and testing. Each of this can be a string (name of a built-in function), function or a `tf.keras.metrics.Metric` instance. See `tf.keras.metrics`. Typically you will use `metrics=['accuracy']`. A function is any callable with the signature `result = fn(y_true, y_pred)`. To specify different metrics for different outputs of a multi-output model, you could also pass a dictionary, such as `metrics={'output_a': 'accuracy', 'output_b': ['accuracy', 'mse']}`. You can also pass a list to specify a metric or a list of metrics for each output, such as `metrics=[['accuracy'], ['accuracy', 'mse']]` or `metrics=['accuracy', ['accuracy', 'mse']]`.\n",
    "\n",
    "https://keras.io/api/models/model_training_apis/#compile-method\n",
    "\n",
    "\n",
    "##### fit method\n",
    "\n",
    "`Model.fit(x=None,y=None,batch_size=None,epochs=1,verbose=\"auto\", validation_data=None)`\n",
    "* Trains the model for a fixed number of epochs (iterations on a dataset).\n",
    "* `x`: Input data. It could be:\n",
    "  - A Numpy array (or array-like), or a list of arrays\n",
    "    (in case the model has multiple inputs).\n",
    "  - A TensorFlow tensor, or a list of tensors\n",
    "    (in case the model has multiple inputs).\n",
    "  - A dict mapping input names to the corresponding array/tensors,\n",
    "    if the model has named inputs.\n",
    "  - A `tf.data` dataset. \n",
    "  - A generator or `keras.utils.Sequence`.\n",
    "* `y`: Target data. \n",
    "    * Like the input data `x`, it could be either Numpy array(s) or TensorFlow tensor(s).\n",
    "    * It should be consistent with `x` (you cannot have Numpy inputs and tensor targets, or inversely). \n",
    "    * If `x` is a dataset, generator, or `keras.utils.Sequence` instance, `y` should not be specified (since targets will be obtained from `x`).\n",
    "* `batch_size`: Integer or `None`.\n",
    "    Number of samples per gradient update.\n",
    "    If unspecified, `batch_size` will default to 32.\n",
    "    Do not specify the `batch_size` if your data is in the\n",
    "    form of symbolic tensors, datasets,\n",
    "    generators, or `keras.utils.Sequence` instances (since they generate\n",
    "    batches).\n",
    "* `epochs`: Integer. Number of epochs to train the model.\n",
    "    An epoch is an iteration over the entire `x` and `y`\n",
    "    data provided.\n",
    "* `verbose`: 0, 1, or 2. Verbosity mode.\n",
    "    * 0 = silent, 1 = progress bar, 2 = one line per epoch.\n",
    "    * Note that the progress bar is not particularly useful when logged to a file, so verbose=2 is recommended when not running interactively (eg, in a production environment).\n",
    "\n",
    "* `validation_data`: Data on which to evaluate the loss and any model metrics at the end of each epoch.\n",
    "    * The model will not be trained on this data."
   ]
  },
  {
   "cell_type": "markdown",
   "metadata": {},
   "source": [
    "#### Adam\n",
    "\n",
    "`tf.keras.optimizers.Adam(learning_rate=0.001, beta_1=0.9, beta_2=0.999, epsilon=1e-07)`\n",
    "* Optimizer that implements the Adam algorithm.\n",
    "* Adam optimization is a stochastic gradient descent method that is based on adaptive estimation of first-order and second-order moments.\n",
    "* `learning_rate`: The learning rate. Defaults to 0.001.\n",
    "* `beta_1`: The exponential decay rate for the 1st moment estimates. Defaults to 0.9. 0<beta<1，usually close to 1.\n",
    "* `beta_2`: The exponential decay rate for the 2nd moment estimates. Defaults to 0.999. 0<beta<1，usually close to 1.\n",
    "* `epsilon`: A small constant for numerical stability. Float, epsilon > 0. It is a very small number to prevent any division by zero in the implementation\n",
    "\n",
    "https://keras.io/api/optimizers/\n",
    "\n",
    "https://arxiv.org/pdf/1412.6980v8.pdf\n",
    "\n",
    "https://www.jianshu.com/p/aebcaf8af76e\n",
    "\n",
    "https://venkat-rajgopal.github.io/Rectified-ADAM-optimizer/\n",
    "\n",
    "https://stats.stackexchange.com/questions/265400/deep-learning-how-does-beta-1-and-beta-2-in-the-adam-optimizer-affect-its-lear"
   ]
  },
  {
   "cell_type": "code",
   "execution_count": null,
   "metadata": {},
   "outputs": [],
   "source": [
    "deeplob = create_deeplob(100,40,64)\n",
    "\n",
    "# # Model Training\n",
    "\n",
    "deeplob.fit(trainX_CNN, trainY_CNN, epochs=200, batch_size=32, verbose=2, validation_data=(testX_CNN, testY_CNN))\n",
    "\n",
    "deeplob.save('paper5.model')\n",
    "\n",
    "deeplob.summary()"
   ]
  },
  {
   "cell_type": "markdown",
   "metadata": {},
   "source": [
    "#### links\n",
    "\n",
    "Conv2d\n",
    "https://www.leiphone.com/category/yanxishe/fhJ72ZPlmYr12CwV.html\n",
    "\n",
    "\n",
    "https://blog.csdn.net/Zh_1999a/article/details/107526001\n",
    "\n",
    "padding\n",
    "\n",
    "https://stackoverflow.com/questions/37674306/what-is-the-difference-between-same-and-valid-padding-in-tf-nn-max-pool-of-t\n",
    "\n",
    "Keras tutorial\n",
    "\n",
    "https://victorzhou.com/blog/keras-cnn-tutorial/"
   ]
  },
  {
   "cell_type": "code",
   "execution_count": null,
   "metadata": {},
   "outputs": [],
   "source": []
  },
  {
   "cell_type": "code",
   "execution_count": null,
   "metadata": {},
   "outputs": [],
   "source": []
  },
  {
   "cell_type": "code",
   "execution_count": null,
   "metadata": {},
   "outputs": [],
   "source": []
  },
  {
   "cell_type": "code",
   "execution_count": null,
   "metadata": {},
   "outputs": [],
   "source": []
  }
 ],
 "metadata": {
  "kernelspec": {
   "display_name": "Python 3",
   "language": "python",
   "name": "python3"
  },
  "language_info": {
   "codemirror_mode": {
    "name": "ipython",
    "version": 3
   },
   "file_extension": ".py",
   "mimetype": "text/x-python",
   "name": "python",
   "nbconvert_exporter": "python",
   "pygments_lexer": "ipython3",
   "version": "3.7.6"
  }
 },
 "nbformat": 4,
 "nbformat_minor": 4
}
