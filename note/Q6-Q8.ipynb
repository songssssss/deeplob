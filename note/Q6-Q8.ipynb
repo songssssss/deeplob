{
 "cells": [
  {
   "cell_type": "markdown",
   "metadata": {},
   "source": [
    "# Q5\n",
    "\n",
    "#[Q. how to compile python code to be an executable file?]"
   ]
  },
  {
   "cell_type": "code",
   "execution_count": null,
   "metadata": {},
   "outputs": [],
   "source": [
    "#pip install pyinstaller;"
   ]
  },
  {
   "cell_type": "markdown",
   "metadata": {},
   "source": [
    "* Install `pyinstaller`\n",
    "* Assume `path` is the path of your Python script.\n",
    "* `cd path`<br>\n",
    "  `pyinstaller --onefile PythonScriptName.py`<br>\n",
    "  `path\\dist\\PythonScriptName.exe`\n"
   ]
  },
  {
   "cell_type": "markdown",
   "metadata": {},
   "source": [
    "## Q6"
   ]
  },
  {
   "cell_type": "markdown",
   "metadata": {},
   "source": [
    "![flowchart](https://raw.githubusercontent.com/songssssss/notebook-repo/0b67215646f8916048ca2cfab0827bff81975b04/chp6%20flowchart.jpg)"
   ]
  },
  {
   "cell_type": "code",
   "execution_count": null,
   "metadata": {},
   "outputs": [],
   "source": [
    "#[Q. How to add the initial stock price at a particular position in an array? I am just curious...]"
   ]
  },
  {
   "cell_type": "code",
   "execution_count": null,
   "metadata": {},
   "outputs": [],
   "source": [
    "import numpy as np"
   ]
  },
  {
   "cell_type": "code",
   "execution_count": 3,
   "metadata": {},
   "outputs": [
    {
     "name": "stdout",
     "output_type": "stream",
     "text": [
      "[ 1  2  3 11 12  4  5  6] \n",
      "\n"
     ]
    }
   ],
   "source": [
    "# numpy.insert\n",
    "a = np.array([[1,2,3], [4,5,6]])\n",
    "print(np.insert(a,3,[11,12]))"
   ]
  },
  {
   "cell_type": "code",
   "execution_count": null,
   "metadata": {},
   "outputs": [],
   "source": [
    "# some examples for list unpacking"
   ]
  },
  {
   "cell_type": "code",
   "execution_count": 4,
   "metadata": {},
   "outputs": [
    {
     "name": "stdout",
     "output_type": "stream",
     "text": [
      "Tom Alice Jerry\n"
     ]
    }
   ],
   "source": [
    "# list unpacking\n",
    "name = ['Tom', 'Alice', 'Jerry']\n",
    "Tom = name[0]\n",
    "Alice = name[1]\n",
    "Jerry = name[2]\n",
    "print(Tom, Alice, Jerry)"
   ]
  },
  {
   "cell_type": "code",
   "execution_count": 5,
   "metadata": {},
   "outputs": [
    {
     "name": "stdout",
     "output_type": "stream",
     "text": [
      "Tom Alice Jerry\n"
     ]
    }
   ],
   "source": [
    "Tom, Alice, Jerry = name\n",
    "print(Tom, Alice, Jerry)"
   ]
  },
  {
   "cell_type": "markdown",
   "metadata": {},
   "source": [
    "QuantLib-Python Module Reference\n",
    "https://quantlib-python-docs.readthedocs.io/_/downloads/en/latest/pdf/<br>\n",
    "http://gouthamanbalaraman.com/blog/quantlib-python-tutorials-with-examples.html<br>\n",
    "https://quantlib-python-docs.readthedocs.io/en/latest/basics.html\n",
    "\n",
    "Derivatives Pricing using QuantLib: An Introduction\n",
    "https://web.iima.ac.in/assets/snippets/workingpaperpdf/7473160052015-03-16.pdf\n",
    "\n",
    "\n",
    "* `SimpleQuote` Class Reference\n",
    "    * market element returning a stored value\n",
    "    * https://www.quantlib.org/reference/class_quant_lib_1_1_simple_quote.html#details\n",
    "* `FlatForward` Class Reference\n",
    "    * Flat interest-rate curve  \n",
    "* `BlackScholesProcess` Class Reference\n",
    "    * https://www.quantlib.org/reference/class_quant_lib_1_1_black_scholes_process.html\n",
    "* `VanillaOption` Class Reference\n",
    "    * https://rkapl123.github.io/QLAnnotatedSource/d2/d47/class_quant_lib_1_1_vanilla_option.html"
   ]
  },
  {
   "cell_type": "markdown",
   "metadata": {},
   "source": [
    "The whole process of pricing using Quantlib mainly involves class and inheritance.\n",
    "\n",
    "Structure of QuantLib: Important classes\n",
    "\n",
    "Price of any derivative, be it a plain-vanilla option or a complex structured product, depends on the following inputs:\n",
    "* Price of the underlying securities as on date of pricing and their feeds\n",
    "* Term structure of interest rates, volatility, inflation and default probabilities\n",
    "* Stochastic process for the underlying\n",
    "* Pricing engine (the numerical method used for pricing)"
   ]
  },
  {
   "cell_type": "markdown",
   "metadata": {},
   "source": [
    "#### Quantlib Basics"
   ]
  },
  {
   "cell_type": "markdown",
   "metadata": {},
   "source": [
    "##### Date Class\n",
    "\n",
    "The `Date` object can be created using the constructor as `Date(day, month, year)`. It would be worthwhile to pay attention to the fact that `day` is the first argument, followed by `month` and then the `year`. This is different from the `python datetime` object instantiation."
   ]
  },
  {
   "cell_type": "code",
   "execution_count": null,
   "metadata": {},
   "outputs": [],
   "source": [
    "import QuantLib as ql"
   ]
  },
  {
   "cell_type": "code",
   "execution_count": 33,
   "metadata": {
    "scrolled": false
   },
   "outputs": [
    {
     "name": "stdout",
     "output_type": "stream",
     "text": [
      "July 23rd, 2021\n"
     ]
    }
   ],
   "source": [
    "date = ql.Date(23, 7, 2021)\n",
    "print(date)"
   ]
  },
  {
   "cell_type": "markdown",
   "metadata": {},
   "source": [
    "##### Calendar Class\n",
    "\n",
    "The `Date` arithmetic above did not take holidays into account. But valuation of different securities would require taking into account the holidays observed in a specific exchange or country. The `Calendar` class implements this functionality for all the major exchanges."
   ]
  },
  {
   "cell_type": "code",
   "execution_count": 20,
   "metadata": {},
   "outputs": [
    {
     "name": "stdout",
     "output_type": "stream",
     "text": [
      "Add 2 days in HK: July 25th, 2021\n",
      "Add 2 business days in HK: July 27th, 2021\n"
     ]
    }
   ],
   "source": [
    "hk_calendar = ql.HongKong()\n",
    "period = ql.Period(2, ql.Days)\n",
    "\n",
    "print(\"Add 2 days in HK:\", date + period)\n",
    "print(\"Add 2 business days in HK:\", hk_calendar.advance(date, period))"
   ]
  },
  {
   "cell_type": "markdown",
   "metadata": {},
   "source": [
    "##### Interest Rate\n",
    "\n",
    "The `InterestRate` class can be used to store the interest rate with the compounding type, day count and the frequency of compounding. Below we show how to create an interest rate of 6.0% compounded annually, using Actual/Actual day count convention."
   ]
  },
  {
   "cell_type": "code",
   "execution_count": 54,
   "metadata": {},
   "outputs": [],
   "source": [
    "annual_rate = 0.06\n",
    "day_count = ql.ActualActual()  #`ActualActual()` Actual/Actual day count\n",
    "compound_type = ql.Compounded \n",
    "frequency = ql.Annual\n",
    "interest_rate = ql.InterestRate(annual_rate, day_count, compound_type, frequency)"
   ]
  },
  {
   "cell_type": "code",
   "execution_count": 55,
   "metadata": {
    "scrolled": false
   },
   "outputs": [
    {
     "name": "stdout",
     "output_type": "stream",
     "text": [
      "1.1236000000000002\n",
      "1.1236000000000002\n"
     ]
    }
   ],
   "source": [
    "t = 2.0\n",
    "print(interest_rate.compoundFactor(t))\n",
    "print((1+annual_rate)*(1.0+annual_rate))"
   ]
  },
  {
   "cell_type": "markdown",
   "metadata": {},
   "source": [
    "##### Settings"
   ]
  },
  {
   "cell_type": "code",
   "execution_count": 30,
   "metadata": {
    "scrolled": true
   },
   "outputs": [
    {
     "name": "stdout",
     "output_type": "stream",
     "text": [
      "Eval Date : July 30th, 2021\n",
      "New Eval Date : January 1st, 2020\n"
     ]
    }
   ],
   "source": [
    "# today's date is returned if the evaluation date is set to the null date (its default value) \n",
    "d = ql.Settings.instance().evaluationDate\n",
    "print('Eval Date :', d)\n",
    "\n",
    "# we can set it to a new value\n",
    "ql.Settings.instance().evaluationDate = ql.Date(1, ql.January, 2020)\n",
    "d = ql.Settings.instance().evaluationDate\n",
    "print('New Eval Date :', d)"
   ]
  },
  {
   "cell_type": "markdown",
   "metadata": {},
   "source": [
    "##### Instruments and pricing engines\n",
    "\n",
    "Take a European option as a sample instrument. Building the option requires only the specification of its contract, so its payoff (it’s a call option with strike at 100) and its exercise, three months from today’s date. Market data will be selected and passed later, depending on the calculation methods."
   ]
  },
  {
   "cell_type": "code",
   "execution_count": 32,
   "metadata": {},
   "outputs": [],
   "source": [
    "option = ql.EuropeanOption(ql.PlainVanillaPayoff(ql.Option.Call, 100.0), \n",
    "                        ql.EuropeanExercise(ql.Date(3, ql.September, 2021)))"
   ]
  },
  {
   "cell_type": "markdown",
   "metadata": {},
   "source": [
    "Take the analytic Black-Scholes formula as a sample pricing engine\n",
    "\n",
    "First, we collect the quoted market data. We’ll assume flat risk-free rate and volatility, so they can be expressed by `SimpleQuote` instances. The underlying value is at 100, the risk-free value at 1%, and the volatility at 20%.\n",
    "\n",
    "* `Quote` instances: those model numbers whose value can change and that can notify observers when this happens. "
   ]
  },
  {
   "cell_type": "code",
   "execution_count": 34,
   "metadata": {},
   "outputs": [],
   "source": [
    "u = ql.SimpleQuote(100.0)\n",
    "r = ql.SimpleQuote(0.01)\n",
    "sigma = ql.SimpleQuote(0.2)"
   ]
  },
  {
   "cell_type": "markdown",
   "metadata": {},
   "source": [
    "In order to build the engine, the market data are encapsulated in a Black-Scholes process object. \n",
    "\n",
    "Before that, we need to build flat curves for the risk-free rate and the volatility. "
   ]
  },
  {
   "cell_type": "code",
   "execution_count": 39,
   "metadata": {},
   "outputs": [],
   "source": [
    "riskFreeCurve = ql.FlatForward(0, hk_calendar, ql.QuoteHandle(r), day_count) \n",
    "volatility = ql.BlackConstantVol(0, hk_calendar, ql.QuoteHandle(sigma), day_count)"
   ]
  },
  {
   "cell_type": "markdown",
   "metadata": {},
   "source": [
    "We instantiate the process with the underlying value and the curves we just built. \n",
    "\n",
    "* The `Handle` class is a smart pointer to pointer. The inputs are all stored into handles, so that we could change the quotes and curves used if we wanted. "
   ]
  },
  {
   "cell_type": "code",
   "execution_count": 47,
   "metadata": {},
   "outputs": [],
   "source": [
    "process = ql.BlackScholesProcess(ql.QuoteHandle(u),\n",
    "                                 ql.YieldTermStructureHandle(riskFreeCurve), \n",
    "                                 ql.BlackVolTermStructureHandle(volatility))"
   ]
  },
  {
   "cell_type": "markdown",
   "metadata": {},
   "source": [
    "After having the process, we can finally use it to build the engine."
   ]
  },
  {
   "cell_type": "code",
   "execution_count": 48,
   "metadata": {},
   "outputs": [],
   "source": [
    "engine = ql.AnalyticEuropeanEngine(process)"
   ]
  },
  {
   "cell_type": "markdown",
   "metadata": {},
   "source": [
    "After having the engine, we can set it to the option and evaluate the latter."
   ]
  },
  {
   "cell_type": "code",
   "execution_count": 49,
   "metadata": {},
   "outputs": [
    {
     "name": "stdout",
     "output_type": "stream",
     "text": [
      "11.041153344216704\n"
     ]
    }
   ],
   "source": [
    "option.setPricingEngine(engine)\n",
    "print(option.NPV())"
   ]
  },
  {
   "cell_type": "markdown",
   "metadata": {},
   "source": [
    "##### Market changes\n",
    "As mentioned before, market data are stored in `Quote` instances and thus can notify the option when any of them changes. We don’t have to do anything explicitly to tell the option to recalculate: once we set a new value to the underlying, we can simply ask the option for its NPV again and we’ll get the updated value."
   ]
  },
  {
   "cell_type": "code",
   "execution_count": 60,
   "metadata": {
    "scrolled": true
   },
   "outputs": [
    {
     "name": "stdout",
     "output_type": "stream",
     "text": [
      "13.750323541502016\n"
     ]
    }
   ],
   "source": [
    "u.setValue(105.0) \n",
    "r.setValue(0.006) \n",
    "print(option.NPV())"
   ]
  },
  {
   "cell_type": "markdown",
   "metadata": {},
   "source": [
    "6. Iteratively calculate the continuation value and the value vector in the given time:\n",
    "\n",
    "We ran the backward part of the algorithm from time $T-1$ to $0$. At each of these steps, we estimated the expected continuation value as a cross-sectional linear regression. We fitted the $5^{th}$-degree polynomial to the data using `np.polyfit`. Then, we evaluated the polynomial at specific values (using `np.polyval`), which is the same as getting the fitted values from a linear regression. We compared the expected continuation value to the payoff to see if the option should be exercised. If the payoff was higher than the expected value from continuation, we set the value to the payoff. Otherwise, we set it to the discounted one-step-ahead value. We used `np.where` for this selection."
   ]
  },
  {
   "cell_type": "markdown",
   "metadata": {},
   "source": [
    "## Q7"
   ]
  },
  {
   "cell_type": "code",
   "execution_count": null,
   "metadata": {},
   "outputs": [],
   "source": [
    "#pip install yfinance==0.1.62\n",
    "\n",
    "#[Q. Can you provide a bit more explanation here why we need to downgrade the yfinance package]"
   ]
  },
  {
   "cell_type": "markdown",
   "metadata": {},
   "source": [
    "Actually, there are bugs for `yf.donwload` to download information for multiple tickers in the earlier version of yfinance. When I was doing this chapter, 0.1.62 or greater had not been released so I wrote 'upgrade'. But I think it will no longer be a problem for students."
   ]
  },
  {
   "cell_type": "code",
   "execution_count": 1,
   "metadata": {},
   "outputs": [],
   "source": [
    "#[Q. Can we define the forumulas here as well? Like what is Calmar ratio in notation?]"
   ]
  },
  {
   "cell_type": "markdown",
   "metadata": {},
   "source": [
    "Notes:\n",
    "\n",
    "\n",
    "\n",
    "* $Sharpe \\space Ratio = \\frac{R_p - R_f}{\\sigma_p}$\n",
    "    * $R_p$ = return of portfolio\n",
    "    * $R_f$ = risk-free rate\n",
    "    * $\\sigma_p$ = standard deviation of portfolio's excess return\n",
    "* $Maximum \\space Drawdown= \\frac{Through Value - Peak Value}{Peak Value}$\n",
    "* $Calmar \\space Ratio= \\frac{R_p-R_f}{Maximum \\space Drawdown}$\n",
    "* $Sortino \\space Ratio = \\frac{R_p-R_f}{\\sigma_d}$\n",
    "    * $\\sigma_d$ = standard deviation of the downside "
   ]
  },
  {
   "cell_type": "code",
   "execution_count": 13,
   "metadata": {},
   "outputs": [],
   "source": [
    "#range arange linspace"
   ]
  },
  {
   "cell_type": "code",
   "execution_count": null,
   "metadata": {},
   "outputs": [],
   "source": [
    "#[Q. what is the difference between linspace and range]"
   ]
  },
  {
   "cell_type": "markdown",
   "metadata": {},
   "source": [
    "chapter 3\n",
    "\n",
    "Notes:\n",
    "\n",
    "*Generating a sequence of numbers*\n",
    "* `numpy.linspace(start, stop, num=50)`\n",
    "    * Return evenly spaced numbers over a specified interval.\n",
    "    * `num`: *int, optional*. Number of samples to generate. Default is 50. Must be non-negative.\n",
    " \n",
    "* `numpy.arange([start, ]stop, [step, ])`\n",
    "    * Return evenly spaced values within a given interval.\n",
    "    * `start` : *optional*. Start of interval range. By default start = 0\n",
    "    * `step`  : *optional*. Step size of interval. By default step size = 1\n",
    "    \n",
    "* `range([start, ]stop, [step, ])`\n",
    "    * Return an object that produces a sequence of integers from start.\n",
    "    * `stop`: *integer*. Before which the sequence of integers is to be returned. The range of integers ends at stop - 1.\n",
    "    * `step`: *optional*. It is an integer value which determines the increment between each integer in the sequence\n"
   ]
  },
  {
   "cell_type": "code",
   "execution_count": 1,
   "metadata": {},
   "outputs": [],
   "source": [
    "import numpy as np"
   ]
  },
  {
   "cell_type": "code",
   "execution_count": 2,
   "metadata": {},
   "outputs": [
    {
     "name": "stdout",
     "output_type": "stream",
     "text": [
      "[1. 2. 3. 4. 5.]\n"
     ]
    }
   ],
   "source": [
    "# linespace\n",
    "# If dtype is not given, the data type is inferred from start and stop. \n",
    "# The inferred dtype will never be an integer; float is chosen even if the arguments would produce an array of integers.\n",
    "print(np.linspace(1, 5, num=5))"
   ]
  },
  {
   "cell_type": "code",
   "execution_count": 77,
   "metadata": {
    "scrolled": true
   },
   "outputs": [
    {
     "name": "stdout",
     "output_type": "stream",
     "text": [
      "[0 1 2]\n",
      "[3 4 5 6]\n",
      "[3 5]\n"
     ]
    }
   ],
   "source": [
    "# arange\n",
    "# default start is 0\n",
    "print(np.arange(3))\n",
    "# default step is 1\n",
    "print(np.arange(3,7))\n",
    "print(np.arange(3,7,2))"
   ]
  },
  {
   "cell_type": "code",
   "execution_count": 78,
   "metadata": {
    "scrolled": true
   },
   "outputs": [
    {
     "name": "stdout",
     "output_type": "stream",
     "text": [
      "[]\n",
      "[0, 1, 2, 3, 4, 5, 6, 7, 8, 9]\n",
      "[1, 2, 3, 4, 5, 6, 7, 8, 9]\n",
      "[1, 4, 7]\n"
     ]
    }
   ],
   "source": [
    "# range\n",
    "# empty range\n",
    "print(list(range(0)))\n",
    "# using range(stop)\n",
    "print(list(range(10)))\n",
    "# using range(start, stop)\n",
    "print(list(range(1, 10)))\n",
    "# using range(start, stop, step)\n",
    "print(list(range(1, 10, 3)))"
   ]
  },
  {
   "cell_type": "markdown",
   "metadata": {},
   "source": [
    "* `numpy.linspace` VS `numpy.arange`\n",
    "    * `linspace` always includes the end points.\n",
    "    * Use `linspace` when you know the number of points needed and the exact values of the start and end points of your range are important.\n",
    "    * Use `arange` when you know the step size."
   ]
  },
  {
   "cell_type": "code",
   "execution_count": 2,
   "metadata": {},
   "outputs": [],
   "source": [
    "import numpy as np"
   ]
  },
  {
   "cell_type": "code",
   "execution_count": 4,
   "metadata": {
    "scrolled": true
   },
   "outputs": [
    {
     "data": {
      "text/plain": [
       "array([0.3       , 0.41666667, 0.53333333, 0.65      , 0.76666667,\n",
       "       0.88333333, 1.        ])"
      ]
     },
     "execution_count": 4,
     "metadata": {},
     "output_type": "execute_result"
    }
   ],
   "source": [
    "np.linspace(0.3, 1, 7)"
   ]
  },
  {
   "cell_type": "code",
   "execution_count": 17,
   "metadata": {
    "scrolled": false
   },
   "outputs": [
    {
     "data": {
      "text/plain": [
       "array([1.  , 1.25, 1.5 , 1.75, 2.  ])"
      ]
     },
     "execution_count": 17,
     "metadata": {},
     "output_type": "execute_result"
    }
   ],
   "source": [
    "np.linspace(1,2,5) # includes 2"
   ]
  },
  {
   "cell_type": "code",
   "execution_count": 9,
   "metadata": {
    "scrolled": false
   },
   "outputs": [
    {
     "data": {
      "text/plain": [
       "array([1. , 1.2, 1.4, 1.6, 1.8])"
      ]
     },
     "execution_count": 9,
     "metadata": {},
     "output_type": "execute_result"
    }
   ],
   "source": [
    "np.arange(1,2,0.2)"
   ]
  },
  {
   "cell_type": "markdown",
   "metadata": {},
   "source": [
    "* `numpy.linspace` VS `range`\n",
    "    * `range` function will return an object that produces a sequence of numbers. However, it is only for integers.\n",
    "    * In Python3, `range` returns an iterable object and not a list (Python2)."
   ]
  },
  {
   "cell_type": "code",
   "execution_count": 13,
   "metadata": {},
   "outputs": [
    {
     "data": {
      "text/plain": [
       "array([0.  , 0.75, 1.5 ])"
      ]
     },
     "execution_count": 13,
     "metadata": {},
     "output_type": "execute_result"
    }
   ],
   "source": [
    "# no restriction\n",
    "np.linspace(0,1.5,3)"
   ]
  },
  {
   "cell_type": "code",
   "execution_count": 12,
   "metadata": {
    "scrolled": false
   },
   "outputs": [
    {
     "ename": "TypeError",
     "evalue": "'float' object cannot be interpreted as an integer",
     "output_type": "error",
     "traceback": [
      "\u001b[1;31m---------------------------------------------------------------------------\u001b[0m",
      "\u001b[1;31mTypeError\u001b[0m                                 Traceback (most recent call last)",
      "\u001b[1;32m<ipython-input-12-81da84ab0cbe>\u001b[0m in \u001b[0;36m<module>\u001b[1;34m\u001b[0m\n\u001b[1;32m----> 1\u001b[1;33m \u001b[0mrange\u001b[0m\u001b[1;33m(\u001b[0m\u001b[1;36m0\u001b[0m\u001b[1;33m,\u001b[0m \u001b[1;36m1.5\u001b[0m\u001b[1;33m)\u001b[0m\u001b[1;33m\u001b[0m\u001b[1;33m\u001b[0m\u001b[0m\n\u001b[0m",
      "\u001b[1;31mTypeError\u001b[0m: 'float' object cannot be interpreted as an integer"
     ]
    }
   ],
   "source": [
    "# only for integers\n",
    "range(0, 1.5)"
   ]
  },
  {
   "cell_type": "code",
   "execution_count": 23,
   "metadata": {
    "scrolled": false
   },
   "outputs": [
    {
     "name": "stdout",
     "output_type": "stream",
     "text": [
      "<class 'range'>\n",
      "[0, 1]\n"
     ]
    }
   ],
   "source": [
    "# range returns an iterable object \n",
    "print(type(range(2)))\n",
    "print(list(range(2)))"
   ]
  },
  {
   "cell_type": "code",
   "execution_count": null,
   "metadata": {},
   "outputs": [],
   "source": [
    "#pip install yfinance==0.1.62\n",
    "\n",
    "#[Q. Can you provide a bit more explanation here why we need to downgrade the yfinance package]"
   ]
  },
  {
   "cell_type": "markdown",
   "metadata": {},
   "source": [
    "Actually, there are bugs for `yf.donwload` to download information for multiple tickers in the earlier version of yfinance. When I was doing this chapter, 0.1.62 or greater had not been released so I wrote 'upgrade'. But I think it will no longer be a problem for students."
   ]
  },
  {
   "cell_type": "code",
   "execution_count": 11,
   "metadata": {},
   "outputs": [],
   "source": [
    "#[Q. What is 'b--'?] # blue dashed line\n",
    "\n",
    "#https://matplotlib.org/stable/api/_as_gen/matplotlib.pyplot.plot.html"
   ]
  },
  {
   "cell_type": "markdown",
   "metadata": {},
   "source": [
    "Notes:\n",
    "* Format Strings\n",
    "    * A format string consists of a part for color, marker and line: `fmt = '[marker][line][color]'`\n",
    "        * Each of them is optional. If not provided, the value from the style cycle is used. Exception: If line is given, but no marker, the data will be a line without markers.\n",
    "        * Other combinations such as `[color][marker][line]` are also supported, but note that their parsing may be ambiguous.\n",
    "    * Markers\n",
    "        * `'o'`\tcircle marker\n",
    "    * Line Styles\n",
    "        * `'--'` dashed line style\n",
    "        * `'-'`\tsolid line style\n",
    "    * Colors: the supported color abbreviations are the single letter codes\n",
    "        * `'b'`\tblue\n",
    "        * `'g'`\tgreen\n",
    "* See also https://matplotlib.org/stable/api/_as_gen/matplotlib.pyplot.plot.html"
   ]
  },
  {
   "cell_type": "code",
   "execution_count": 24,
   "metadata": {},
   "outputs": [],
   "source": [
    "#[Q. What is x['fun']]?\n",
    "# 'fun' is an element in the scipy.optimize.OptimizeResult. "
   ]
  },
  {
   "cell_type": "markdown",
   "metadata": {},
   "source": [
    "Remarks:\n",
    "* We extracted the volatility from the `scipy.optimize.OptimizeResult` object by accessing the `'fun'` element. This stands for the optimized objective function—in this case, the portfolio volatility."
   ]
  },
  {
   "cell_type": "code",
   "execution_count": null,
   "metadata": {},
   "outputs": [],
   "source": [
    "#[Q. Any example for inequality constraint? ]"
   ]
  },
  {
   "cell_type": "code",
   "execution_count": 4,
   "metadata": {},
   "outputs": [],
   "source": [
    "import scipy.optimize as sco\n",
    "import numpy as np"
   ]
  },
  {
   "cell_type": "markdown",
   "metadata": {},
   "source": [
    "Example for nonlinear programming\n",
    "\n",
    "$min \\space f(x) = x_1^2 +x_2^2+x_3^2+8$\n",
    "\n",
    "$s.t. \\space x_1^2-x_2+x_3^2 \\geq 0$<br>\n",
    "$\\space x_1+x_2^2+x_3^2 \\leq 20$<br>\n",
    "$\\space -x_1-x_2^2+2 = 0$<br>\n",
    "$\\space x_2+2x_3^2 = 3$<br>\n",
    "$\\space x_1,x_2,x_3\\geq 0$<br>"
   ]
  },
  {
   "cell_type": "code",
   "execution_count": 2,
   "metadata": {},
   "outputs": [],
   "source": [
    "# objecctive function\n",
    "def objective(x):\n",
    "    return -(x[0]**2+x[1]**2+x[2]**2+8)"
   ]
  },
  {
   "cell_type": "code",
   "execution_count": 10,
   "metadata": {},
   "outputs": [],
   "source": [
    "b=(0.0, None)\n",
    "bounds= (b,b,b)\n",
    "#initial_guess\n",
    "#x0 = np.array([0,0,0])\n",
    "x0 = np.array([1,2,3])"
   ]
  },
  {
   "cell_type": "code",
   "execution_count": 11,
   "metadata": {},
   "outputs": [],
   "source": [
    "ineq_cons = ({'type': 'ineq', \n",
    "             'fun' : lambda x: x[0]**2 - x[1] + x[2]**2},\n",
    "             {'type': 'ineq', \n",
    "             'fun' : lambda x: 20 - x[0] - x[1]**2 - x[2]**2},\n",
    "             {'type': 'eq', \n",
    "             'fun' : lambda x: -x[0] - x[1]**2 + 2},\n",
    "             {'type': 'eq', \n",
    "             'fun' : lambda x: x[1] + 2*x[2]**2 -3 })"
   ]
  },
  {
   "cell_type": "code",
   "execution_count": 12,
   "metadata": {},
   "outputs": [],
   "source": [
    "result = sco.minimize(objective, x0, method='SLSQP', \n",
    "                      constraints=ineq_cons,bounds=bounds)"
   ]
  },
  {
   "cell_type": "code",
   "execution_count": 17,
   "metadata": {
    "scrolled": true
   },
   "outputs": [
    {
     "data": {
      "text/plain": [
       "     fun: -13.500000000000213\n",
       "     jac: array([-4.        ,  0.        , -2.44948971])\n",
       " message: 'Optimization terminated successfully'\n",
       "    nfev: 37\n",
       "     nit: 9\n",
       "    njev: 9\n",
       "  status: 0\n",
       " success: True\n",
       "       x: array([2.00000000e+00, 1.05762651e-18, 1.22474487e+00])"
      ]
     },
     "execution_count": 17,
     "metadata": {},
     "output_type": "execute_result"
    }
   ],
   "source": [
    "result"
   ]
  },
  {
   "cell_type": "code",
   "execution_count": 16,
   "metadata": {},
   "outputs": [
    {
     "data": {
      "text/plain": [
       "-13.500000000000213"
      ]
     },
     "execution_count": 16,
     "metadata": {},
     "output_type": "execute_result"
    }
   ],
   "source": [
    "result['fun'] # objective function"
   ]
  },
  {
   "cell_type": "code",
   "execution_count": 13,
   "metadata": {
    "scrolled": true
   },
   "outputs": [
    {
     "data": {
      "text/plain": [
       "array([2.00000000e+00, 1.05762651e-18, 1.22474487e+00])"
      ]
     },
     "execution_count": 13,
     "metadata": {},
     "output_type": "execute_result"
    }
   ],
   "source": [
    "result.x"
   ]
  },
  {
   "cell_type": "markdown",
   "metadata": {},
   "source": [
    " cvxy installation\n",
    "\n",
    "https://stackoverflow.com/questions/61365790/error-could-not-build-wheels-for-scipy-which-use-pep-517-and-cannot-be-installe\n",
    "\n",
    "try update pip"
   ]
  },
  {
   "cell_type": "code",
   "execution_count": null,
   "metadata": {},
   "outputs": [],
   "source": [
    "# !conda install -c conda-forge cvxpy"
   ]
  },
  {
   "cell_type": "markdown",
   "metadata": {},
   "source": [
    "difference between installation using pip, conda install"
   ]
  },
  {
   "cell_type": "markdown",
   "metadata": {},
   "source": [
    "## Q8"
   ]
  },
  {
   "cell_type": "code",
   "execution_count": null,
   "metadata": {},
   "outputs": [],
   "source": [
    "#[Q. Can you teach me a bit what the first line does? ]\n",
    "rename_dict = {x: y for x, y in zip(df.loc[:, 'pay_0':'pay_amt6'].columns, new_column_names)}"
   ]
  },
  {
   "cell_type": "markdown",
   "metadata": {},
   "source": [
    "Notes:\n",
    "\n",
    "\n",
    "* Producing dictionaries when you know the keys and values\n",
    "    * `dictionary = dict(zip(keys, values))`\n",
    "    * `dictionary = {x: y for x, y in zip(keys, values)}`\n",
    "        * Dictionary comprehension in Python\n",
    "            * Similar to list comprehension, dictionary comprehension is an elegant and concise way to create dictionaries.\n",
    "            * `dictionary = {key: value for x in iterable}`"
   ]
  },
  {
   "cell_type": "code",
   "execution_count": 7,
   "metadata": {},
   "outputs": [],
   "source": [
    "keys = ['cat', 'dog']\n",
    "values = ['kitten', 'puppy']"
   ]
  },
  {
   "cell_type": "code",
   "execution_count": 2,
   "metadata": {
    "scrolled": true
   },
   "outputs": [
    {
     "data": {
      "text/plain": [
       "{'cat': 'kitten', 'dog': 'puppy'}"
      ]
     },
     "execution_count": 2,
     "metadata": {},
     "output_type": "execute_result"
    }
   ],
   "source": [
    "keys = ['cat', 'dog']\n",
    "values = ['kitten', 'puppy']\n",
    "dict(zip(keys,values))"
   ]
  },
  {
   "cell_type": "code",
   "execution_count": 8,
   "metadata": {
    "scrolled": false
   },
   "outputs": [
    {
     "data": {
      "text/plain": [
       "{'cat': 'kitten', 'dog': 'puppy'}"
      ]
     },
     "execution_count": 8,
     "metadata": {},
     "output_type": "execute_result"
    }
   ],
   "source": [
    "{x: y for x, y in zip(keys, values)}"
   ]
  },
  {
   "cell_type": "code",
   "execution_count": null,
   "metadata": {},
   "outputs": [],
   "source": [
    "#[Q. How can I see what is inside (zip(df.loc[:, 'pay_0':'pay_amt6'].columns, new_column_names))?]\n",
    "# we can use list, tuple, dict or list comprehension, etc."
   ]
  },
  {
   "cell_type": "code",
   "execution_count": 9,
   "metadata": {
    "scrolled": false
   },
   "outputs": [
    {
     "data": {
      "text/plain": [
       "[('cat', 'kitten'), ('dog', 'puppy')]"
      ]
     },
     "execution_count": 9,
     "metadata": {},
     "output_type": "execute_result"
    }
   ],
   "source": [
    "list(zip(keys,values))"
   ]
  },
  {
   "cell_type": "code",
   "execution_count": 10,
   "metadata": {
    "scrolled": true
   },
   "outputs": [
    {
     "data": {
      "text/plain": [
       "{('cat', 'kitten'), ('dog', 'puppy')}"
      ]
     },
     "execution_count": 10,
     "metadata": {},
     "output_type": "execute_result"
    }
   ],
   "source": [
    "set(zip(keys,values))"
   ]
  },
  {
   "cell_type": "code",
   "execution_count": 6,
   "metadata": {
    "scrolled": false
   },
   "outputs": [
    {
     "data": {
      "text/plain": [
       "[('cat', 'kitten'), ('dog', 'puppy')]"
      ]
     },
     "execution_count": 6,
     "metadata": {},
     "output_type": "execute_result"
    }
   ],
   "source": [
    "[(x,y) for x,y in zip(keys, values)]"
   ]
  },
  {
   "cell_type": "markdown",
   "metadata": {},
   "source": [
    "chapter 6\n",
    "\n",
    "Notes:\n",
    "* `zip()`\n",
    "    * The built-in function `zip()` aggregates the elements from multiple iterable objects (lists, tuples, etc.). It is used when iterating multiple list elements in a for loop.\n",
    "    * By passing an iterable object (lists, tuples, etc.) as an argument of `zip()`, multiple elements can be obtained simultaneously in the for loop.\n",
    "    * The result of the `zip()` function is an iterator. An iterator in Python is an object that contains a fixed number of elements and allows you to access each element in an ordered fashion (the next(iterator) function for an iterator). This is more efficient and more general-purpose — compared to creating a list and returning the list as a result. To fix this, you have to convert the iterator object in the iterable you want (e.g. set, list, tuple)."
   ]
  },
  {
   "cell_type": "code",
   "execution_count": 35,
   "metadata": {},
   "outputs": [
    {
     "name": "stdout",
     "output_type": "stream",
     "text": [
      "[(1, 3), (2, 4)]\n",
      "<class 'list'>\n",
      "(1, 2) (3, 4)\n"
     ]
    }
   ],
   "source": [
    "# zip()\n",
    "a = [1,2]\n",
    "b = [3,4]\n",
    "c = [3,4,5]\n",
    "\n",
    "example1 = list(zip(a,b))\n",
    "print(example1)\n",
    "\n",
    "# using `*` to unzip \n",
    "print(type(example1))\n",
    "a, b = zip(*example1) \n",
    "print(a,b)"
   ]
  },
  {
   "cell_type": "code",
   "execution_count": 3,
   "metadata": {
    "scrolled": false
   },
   "outputs": [
    {
     "name": "stdout",
     "output_type": "stream",
     "text": [
      "<zip object at 0x00000140F3C25580>\n",
      "((1, 3), (2, 4))\n"
     ]
    }
   ],
   "source": [
    "# zip lists of different lengths\n",
    "example2=zip(a,c)\n",
    "print(example2) # zip object\n",
    "print(tuple(example2)) # Python simply ignores the remaining elements of the longer list"
   ]
  },
  {
   "cell_type": "code",
   "execution_count": 4,
   "metadata": {
    "scrolled": true
   },
   "outputs": [
    {
     "name": "stdout",
     "output_type": "stream",
     "text": [
      "((1, 3), (2, 4))\n",
      "<zip object at 0x00000140F3CC5780>\n"
     ]
    }
   ],
   "source": [
    "example3 = zip(a,b) \n",
    "print(tuple(example3))\n",
    "#it's exhausted after one iteration\n",
    "print(example3)"
   ]
  },
  {
   "cell_type": "code",
   "execution_count": 5,
   "metadata": {
    "scrolled": false
   },
   "outputs": [
    {
     "name": "stdout",
     "output_type": "stream",
     "text": [
      "((1, 3), (2, 4))\n",
      "[(1, 2), (3, 4)]\n"
     ]
    }
   ],
   "source": [
    "# display a readable version of the result\n",
    "print(tuple(zip(a,b)))  # use the tuple() function\n",
    "print([x for x in zip(*(zip(a,b)))]) # use list comprehension"
   ]
  },
  {
   "cell_type": "code",
   "execution_count": 39,
   "metadata": {
    "scrolled": true
   },
   "outputs": [
    {
     "name": "stdout",
     "output_type": "stream",
     "text": [
      "[(1, 3), (2, 4)]\n"
     ]
    }
   ],
   "source": [
    "print([x for x in zip(a,b)]) # use list comprehension"
   ]
  },
  {
   "cell_type": "code",
   "execution_count": null,
   "metadata": {},
   "outputs": [],
   "source": [
    "import pandas as pd\n",
    "example = pd.Series(['cat', 'dog', np.nan, 'rabbit'])\n",
    "#print(example)\n",
    "rule={'cat': 'kitten', 'dog': 'puppy'}\n",
    "#print(example.map(rule))\n",
    "#print(example.map('I have a {}'.format))\n",
    "#print(example.map('I have a {}'.format,na_action='ignore'))\n",
    "\n",
    "#[Q. What are you trying to do here? ]\n",
    "# I am trying to show the usage of `na_action` option."
   ]
  },
  {
   "cell_type": "code",
   "execution_count": 11,
   "metadata": {
    "scrolled": true
   },
   "outputs": [
    {
     "data": {
      "text/plain": [
       "0       cat\n",
       "1       dog\n",
       "2       NaN\n",
       "3    rabbit\n",
       "dtype: object"
      ]
     },
     "execution_count": 11,
     "metadata": {},
     "output_type": "execute_result"
    }
   ],
   "source": [
    "import pandas as pd\n",
    "example = pd.Series(['cat', 'dog', np.nan, 'rabbit'])\n",
    "example"
   ]
  },
  {
   "cell_type": "code",
   "execution_count": 14,
   "metadata": {
    "scrolled": false
   },
   "outputs": [
    {
     "data": {
      "text/plain": [
       "0    1.0\n",
       "1   -1.0\n",
       "2    NaN\n",
       "3    1.0\n",
       "dtype: float64"
      ]
     },
     "execution_count": 14,
     "metadata": {},
     "output_type": "execute_result"
    }
   ],
   "source": [
    "example.map(lambda x: x.find('a'),na_action='ignore') # nan will be ignored"
   ]
  },
  {
   "cell_type": "code",
   "execution_count": null,
   "metadata": {},
   "outputs": [],
   "source": [
    "#[Q. What is !head?]"
   ]
  },
  {
   "cell_type": "markdown",
   "metadata": {},
   "source": [
    "chapter 4\n",
    "* `!`\n",
    "    * In Jupyter Notebook you can execute Terminal commands in the notebook cells by prepending an exclamation point/bang(`!`) to the beginning of the command. This can be useful for many things such as getting information without having to open a Terminal/Command Prompt, or installing a conda package you are trying to use."
   ]
  },
  {
   "cell_type": "markdown",
   "metadata": {},
   "source": [
    "For Linux and Unix:\n",
    "\n",
    "`head`: Display the first lines of a file"
   ]
  },
  {
   "cell_type": "code",
   "execution_count": null,
   "metadata": {},
   "outputs": [],
   "source": [
    "#refer to https://ss64.com/osx/head.html\n",
    "# it seems `head` also works for macOS"
   ]
  },
  {
   "cell_type": "code",
   "execution_count": 24,
   "metadata": {},
   "outputs": [
    {
     "name": "stdout",
     "output_type": "stream",
     "text": [
      "[1, 2, [1, 2]]\n",
      "[1, 2, [1, 2, 3], 3]\n",
      "[1, 2, [1, 2, 3], 3]\n",
      "[1, 2, [1, 2, 3]]\n",
      "[1, 2, [1, 2]]\n"
     ]
    }
   ],
   "source": [
    "import copy\n",
    "a = [1,2,[1,2]]  \n",
    "print(a)\n",
    "b = a # assign\n",
    "c = a.copy() # shallow copy\n",
    "d = copy.deepcopy(a) # deep copy\n",
    "a[-1].append(3)\n",
    "a.append(3)\n",
    "print(a)\n",
    "print(b) \n",
    "print(c)\n",
    "print(d)\n",
    "\n",
    "#[Q. I am still quite confused about the difference between shallow and deep copy... ]\n",
    "#[Q. We may refer to some illustrations here at\n",
    "# https://www.geeksforgeeks.org/copy-python-deep-copy-shallow-copy/\n",
    "# or https://www.programiz.com/python-programming/shallow-deep-copy\n",
    "# or especially : https://ithelp.ithome.com.tw/articles/10221255]"
   ]
  },
  {
   "cell_type": "markdown",
   "metadata": {},
   "source": [
    "* Attributes of Python Objects\n",
    "    * Identity: the object's memory address.\n",
    "    * Type: the kind of object that is created. For example- integer, list, string etc. \n",
    "    * Value: the value stored by the object. For example – `List=[1,2,3]` would hold the numbers 1,2 and 3\n",
    "        * ID and Type cannot be changed once it’s created."
   ]
  },
  {
   "cell_type": "markdown",
   "metadata": {},
   "source": [
    "* Mutable and Immutable Data Types in Python\n",
    "    * Objects whose value can change are said to be mutable. Objects whose value is unchangeable once they are created are called immutable.\n",
    "    * Some common mutable types: list, dictionary, set, user-defined classes.\n",
    "    * Some common immutable types: int, float,decimal, bool, string, tuple.\n",
    "    * See also https://medium.com/@meghamohan/mutable-and-immutable-side-of-python-c2145cf72747"
   ]
  },
  {
   "cell_type": "code",
   "execution_count": 26,
   "metadata": {
    "scrolled": true
   },
   "outputs": [
    {
     "data": {
      "text/plain": [
       "2539579867520"
      ]
     },
     "execution_count": 26,
     "metadata": {},
     "output_type": "execute_result"
    }
   ],
   "source": [
    "import numpy as np\n",
    "\n",
    "# mutable\n",
    "example = ['cat', 'dog', np.nan, 'rabbit']\n",
    "id(example)"
   ]
  },
  {
   "cell_type": "code",
   "execution_count": 27,
   "metadata": {
    "scrolled": false
   },
   "outputs": [
    {
     "name": "stdout",
     "output_type": "stream",
     "text": [
      "['cat', 'dog', 'bird', 'rabbit']\n"
     ]
    },
    {
     "data": {
      "text/plain": [
       "2539579867520"
      ]
     },
     "execution_count": 27,
     "metadata": {},
     "output_type": "execute_result"
    }
   ],
   "source": [
    "example[2]='bird' # change the value \n",
    "print(example)\n",
    "id(example) # the identity will not change "
   ]
  },
  {
   "cell_type": "code",
   "execution_count": 28,
   "metadata": {},
   "outputs": [],
   "source": [
    "aa = 1\n",
    "bb = aa # assign"
   ]
  },
  {
   "cell_type": "code",
   "execution_count": 29,
   "metadata": {
    "scrolled": true
   },
   "outputs": [
    {
     "name": "stdout",
     "output_type": "stream",
     "text": [
      "140721832929056\n",
      "140721832929056\n"
     ]
    }
   ],
   "source": [
    "print(id(aa))\n",
    "print(id(bb))"
   ]
  },
  {
   "cell_type": "code",
   "execution_count": 30,
   "metadata": {},
   "outputs": [],
   "source": [
    "aa += 1 # change the value of the object"
   ]
  },
  {
   "cell_type": "code",
   "execution_count": 31,
   "metadata": {
    "scrolled": true
   },
   "outputs": [
    {
     "name": "stdout",
     "output_type": "stream",
     "text": [
      "140721832929088\n",
      "140721832929056\n"
     ]
    }
   ],
   "source": [
    "print(id(aa)) # the id changed\n",
    "print(id(bb))"
   ]
  },
  {
   "cell_type": "code",
   "execution_count": 32,
   "metadata": {
    "scrolled": true
   },
   "outputs": [
    {
     "data": {
      "text/plain": [
       "2"
      ]
     },
     "execution_count": 32,
     "metadata": {},
     "output_type": "execute_result"
    }
   ],
   "source": [
    "aa # value updated"
   ]
  },
  {
   "cell_type": "code",
   "execution_count": 33,
   "metadata": {
    "scrolled": false
   },
   "outputs": [
    {
     "data": {
      "text/plain": [
       "1"
      ]
     },
     "execution_count": 33,
     "metadata": {},
     "output_type": "execute_result"
    }
   ],
   "source": [
    "bb"
   ]
  },
  {
   "cell_type": "markdown",
   "metadata": {},
   "source": [
    "* Shallow copy will copy the outer level items in the list, items nested inside the list will still be copied by reference.\n",
    "* Deep copy goes through all nested items and copies each single one of them.\n",
    "\n",
    "* A shallow copy constructs a new compound object and then (to the extent possible) inserts references into it to the objects found in the original.\n",
    "* A deep copy constructs a new compound object and then, recursively, inserts copies into it of the objects found in the original.\n",
    "* Therefore, as the identity of a mutable object will not change even when its value changes, the value of the nested items in a shallow copy will change accordingly. On the contrary, a deep copy will not be influenced by any changes."
   ]
  },
  {
   "cell_type": "code",
   "execution_count": null,
   "metadata": {},
   "outputs": [],
   "source": [
    "import copy\n",
    "a = [1,2,[1,2]]  \n",
    "print(a)\n",
    "b = a # assign\n",
    "c = a.copy() # shallow copy\n",
    "d = copy.deepcopy(a) # deep copy\n",
    "a[-1].append(3) # change the value of the mutable object(list)\n",
    "a.append(3)  # change the orignal object (append a object to the end of the list)\n",
    "print('assign:', b)\n",
    "print('shallow copy:', c)\n",
    "print('deep copy:', d)"
   ]
  },
  {
   "cell_type": "markdown",
   "metadata": {},
   "source": []
  },
  {
   "cell_type": "code",
   "execution_count": null,
   "metadata": {},
   "outputs": [],
   "source": [
    "#[Q. The statistics look the same, don't they?]"
   ]
  },
  {
   "cell_type": "markdown",
   "metadata": {},
   "source": [
    "![memory](memory_usage.png)\n",
    "\n",
    "\n",
    "![memory](memory_usage_after.png)\n"
   ]
  },
  {
   "cell_type": "code",
   "execution_count": null,
   "metadata": {},
   "outputs": [],
   "source": [
    "#[Q. What is the point of loading this file if we can download the data online?]\n",
    "# no difference except for the speed\n",
    "\n",
    "# but in our case, the dataset originally does not contain missing values and the categorical variables are already encoded as numbers. \n",
    "# To show the entire pipeline of working and preparing potentially messy data, we did some transformations.\n",
    "# If we can upload the transformed data online, then we can import the data directly and no need to store the file.  "
   ]
  },
  {
   "cell_type": "code",
   "execution_count": 81,
   "metadata": {},
   "outputs": [],
   "source": [
    "df=pd.read_excel('http://archive.ics.uci.edu/ml/machine-learning-databases/00350/default%20of%20credit%20card%20clients.xls', index_col=0, na_values='')"
   ]
  },
  {
   "cell_type": "code",
   "execution_count": 90,
   "metadata": {
    "scrolled": true
   },
   "outputs": [
    {
     "data": {
      "text/html": [
       "<div>\n",
       "<style scoped>\n",
       "    .dataframe tbody tr th:only-of-type {\n",
       "        vertical-align: middle;\n",
       "    }\n",
       "\n",
       "    .dataframe tbody tr th {\n",
       "        vertical-align: top;\n",
       "    }\n",
       "\n",
       "    .dataframe thead th {\n",
       "        text-align: right;\n",
       "    }\n",
       "</style>\n",
       "<table border=\"1\" class=\"dataframe\">\n",
       "  <thead>\n",
       "    <tr style=\"text-align: right;\">\n",
       "      <th></th>\n",
       "      <th>limit_bal</th>\n",
       "      <th>sex</th>\n",
       "      <th>education</th>\n",
       "      <th>marriage</th>\n",
       "      <th>age</th>\n",
       "      <th>payment_status_sep</th>\n",
       "      <th>payment_status_aug</th>\n",
       "      <th>payment_status_jul</th>\n",
       "      <th>payment_status_jun</th>\n",
       "      <th>payment_status_may</th>\n",
       "      <th>...</th>\n",
       "      <th>bill_statement_jun</th>\n",
       "      <th>bill_statement_may</th>\n",
       "      <th>bill_statement_apr</th>\n",
       "      <th>previous_payment_sep</th>\n",
       "      <th>previous_payment_aug</th>\n",
       "      <th>previous_payment_jul</th>\n",
       "      <th>previous_payment_jun</th>\n",
       "      <th>previous_payment_may</th>\n",
       "      <th>previous_payment_apr</th>\n",
       "      <th>default_payment_next_month</th>\n",
       "    </tr>\n",
       "  </thead>\n",
       "  <tbody>\n",
       "    <tr>\n",
       "      <th>0</th>\n",
       "      <td>20000</td>\n",
       "      <td>Female</td>\n",
       "      <td>University</td>\n",
       "      <td>Married</td>\n",
       "      <td>24.0</td>\n",
       "      <td>Payment delayed 2 months</td>\n",
       "      <td>Payment delayed 2 months</td>\n",
       "      <td>Payed duly</td>\n",
       "      <td>Payed duly</td>\n",
       "      <td>Unknown</td>\n",
       "      <td>...</td>\n",
       "      <td>0</td>\n",
       "      <td>0</td>\n",
       "      <td>0</td>\n",
       "      <td>0</td>\n",
       "      <td>689</td>\n",
       "      <td>0</td>\n",
       "      <td>0</td>\n",
       "      <td>0</td>\n",
       "      <td>0</td>\n",
       "      <td>1</td>\n",
       "    </tr>\n",
       "    <tr>\n",
       "      <th>1</th>\n",
       "      <td>120000</td>\n",
       "      <td>Female</td>\n",
       "      <td>University</td>\n",
       "      <td>Single</td>\n",
       "      <td>26.0</td>\n",
       "      <td>Payed duly</td>\n",
       "      <td>Payment delayed 2 months</td>\n",
       "      <td>Unknown</td>\n",
       "      <td>Unknown</td>\n",
       "      <td>Unknown</td>\n",
       "      <td>...</td>\n",
       "      <td>3272</td>\n",
       "      <td>3455</td>\n",
       "      <td>3261</td>\n",
       "      <td>0</td>\n",
       "      <td>1000</td>\n",
       "      <td>1000</td>\n",
       "      <td>1000</td>\n",
       "      <td>0</td>\n",
       "      <td>2000</td>\n",
       "      <td>1</td>\n",
       "    </tr>\n",
       "    <tr>\n",
       "      <th>2</th>\n",
       "      <td>90000</td>\n",
       "      <td>Female</td>\n",
       "      <td>University</td>\n",
       "      <td>Single</td>\n",
       "      <td>34.0</td>\n",
       "      <td>Unknown</td>\n",
       "      <td>Unknown</td>\n",
       "      <td>Unknown</td>\n",
       "      <td>Unknown</td>\n",
       "      <td>Unknown</td>\n",
       "      <td>...</td>\n",
       "      <td>14331</td>\n",
       "      <td>14948</td>\n",
       "      <td>15549</td>\n",
       "      <td>1518</td>\n",
       "      <td>1500</td>\n",
       "      <td>1000</td>\n",
       "      <td>1000</td>\n",
       "      <td>1000</td>\n",
       "      <td>5000</td>\n",
       "      <td>0</td>\n",
       "    </tr>\n",
       "    <tr>\n",
       "      <th>3</th>\n",
       "      <td>50000</td>\n",
       "      <td>Female</td>\n",
       "      <td>University</td>\n",
       "      <td>Married</td>\n",
       "      <td>37.0</td>\n",
       "      <td>Unknown</td>\n",
       "      <td>Unknown</td>\n",
       "      <td>Unknown</td>\n",
       "      <td>Unknown</td>\n",
       "      <td>Unknown</td>\n",
       "      <td>...</td>\n",
       "      <td>28314</td>\n",
       "      <td>28959</td>\n",
       "      <td>29547</td>\n",
       "      <td>2000</td>\n",
       "      <td>2019</td>\n",
       "      <td>1200</td>\n",
       "      <td>1100</td>\n",
       "      <td>1069</td>\n",
       "      <td>1000</td>\n",
       "      <td>0</td>\n",
       "    </tr>\n",
       "    <tr>\n",
       "      <th>4</th>\n",
       "      <td>50000</td>\n",
       "      <td>Male</td>\n",
       "      <td>University</td>\n",
       "      <td>Married</td>\n",
       "      <td>57.0</td>\n",
       "      <td>Payed duly</td>\n",
       "      <td>Unknown</td>\n",
       "      <td>Payed duly</td>\n",
       "      <td>Unknown</td>\n",
       "      <td>Unknown</td>\n",
       "      <td>...</td>\n",
       "      <td>20940</td>\n",
       "      <td>19146</td>\n",
       "      <td>19131</td>\n",
       "      <td>2000</td>\n",
       "      <td>36681</td>\n",
       "      <td>10000</td>\n",
       "      <td>9000</td>\n",
       "      <td>689</td>\n",
       "      <td>679</td>\n",
       "      <td>0</td>\n",
       "    </tr>\n",
       "    <tr>\n",
       "      <th>...</th>\n",
       "      <td>...</td>\n",
       "      <td>...</td>\n",
       "      <td>...</td>\n",
       "      <td>...</td>\n",
       "      <td>...</td>\n",
       "      <td>...</td>\n",
       "      <td>...</td>\n",
       "      <td>...</td>\n",
       "      <td>...</td>\n",
       "      <td>...</td>\n",
       "      <td>...</td>\n",
       "      <td>...</td>\n",
       "      <td>...</td>\n",
       "      <td>...</td>\n",
       "      <td>...</td>\n",
       "      <td>...</td>\n",
       "      <td>...</td>\n",
       "      <td>...</td>\n",
       "      <td>...</td>\n",
       "      <td>...</td>\n",
       "      <td>...</td>\n",
       "    </tr>\n",
       "    <tr>\n",
       "      <th>29995</th>\n",
       "      <td>220000</td>\n",
       "      <td>NaN</td>\n",
       "      <td>High school</td>\n",
       "      <td>Married</td>\n",
       "      <td>39.0</td>\n",
       "      <td>Unknown</td>\n",
       "      <td>Unknown</td>\n",
       "      <td>Unknown</td>\n",
       "      <td>Unknown</td>\n",
       "      <td>Unknown</td>\n",
       "      <td>...</td>\n",
       "      <td>88004</td>\n",
       "      <td>31237</td>\n",
       "      <td>15980</td>\n",
       "      <td>8500</td>\n",
       "      <td>20000</td>\n",
       "      <td>5003</td>\n",
       "      <td>3047</td>\n",
       "      <td>5000</td>\n",
       "      <td>1000</td>\n",
       "      <td>0</td>\n",
       "    </tr>\n",
       "    <tr>\n",
       "      <th>29996</th>\n",
       "      <td>150000</td>\n",
       "      <td>Male</td>\n",
       "      <td>High school</td>\n",
       "      <td>Single</td>\n",
       "      <td>43.0</td>\n",
       "      <td>Payed duly</td>\n",
       "      <td>Payed duly</td>\n",
       "      <td>Payed duly</td>\n",
       "      <td>Payed duly</td>\n",
       "      <td>Unknown</td>\n",
       "      <td>...</td>\n",
       "      <td>8979</td>\n",
       "      <td>5190</td>\n",
       "      <td>0</td>\n",
       "      <td>1837</td>\n",
       "      <td>3526</td>\n",
       "      <td>8998</td>\n",
       "      <td>129</td>\n",
       "      <td>0</td>\n",
       "      <td>0</td>\n",
       "      <td>0</td>\n",
       "    </tr>\n",
       "    <tr>\n",
       "      <th>29997</th>\n",
       "      <td>30000</td>\n",
       "      <td>Male</td>\n",
       "      <td>University</td>\n",
       "      <td>Single</td>\n",
       "      <td>37.0</td>\n",
       "      <td>Payment delayed 4 months</td>\n",
       "      <td>Payment delayed 3 months</td>\n",
       "      <td>Payment delayed 2 months</td>\n",
       "      <td>Payed duly</td>\n",
       "      <td>Unknown</td>\n",
       "      <td>...</td>\n",
       "      <td>20878</td>\n",
       "      <td>20582</td>\n",
       "      <td>19357</td>\n",
       "      <td>0</td>\n",
       "      <td>0</td>\n",
       "      <td>22000</td>\n",
       "      <td>4200</td>\n",
       "      <td>2000</td>\n",
       "      <td>3100</td>\n",
       "      <td>1</td>\n",
       "    </tr>\n",
       "    <tr>\n",
       "      <th>29998</th>\n",
       "      <td>80000</td>\n",
       "      <td>Male</td>\n",
       "      <td>High school</td>\n",
       "      <td>Married</td>\n",
       "      <td>41.0</td>\n",
       "      <td>Payment delayed 1 month</td>\n",
       "      <td>Payed duly</td>\n",
       "      <td>Unknown</td>\n",
       "      <td>Unknown</td>\n",
       "      <td>Unknown</td>\n",
       "      <td>...</td>\n",
       "      <td>52774</td>\n",
       "      <td>11855</td>\n",
       "      <td>48944</td>\n",
       "      <td>85900</td>\n",
       "      <td>3409</td>\n",
       "      <td>1178</td>\n",
       "      <td>1926</td>\n",
       "      <td>52964</td>\n",
       "      <td>1804</td>\n",
       "      <td>1</td>\n",
       "    </tr>\n",
       "    <tr>\n",
       "      <th>29999</th>\n",
       "      <td>50000</td>\n",
       "      <td>Male</td>\n",
       "      <td>University</td>\n",
       "      <td>Married</td>\n",
       "      <td>46.0</td>\n",
       "      <td>Unknown</td>\n",
       "      <td>Unknown</td>\n",
       "      <td>Unknown</td>\n",
       "      <td>Unknown</td>\n",
       "      <td>Unknown</td>\n",
       "      <td>...</td>\n",
       "      <td>36535</td>\n",
       "      <td>32428</td>\n",
       "      <td>15313</td>\n",
       "      <td>2078</td>\n",
       "      <td>1800</td>\n",
       "      <td>1430</td>\n",
       "      <td>1000</td>\n",
       "      <td>1000</td>\n",
       "      <td>1000</td>\n",
       "      <td>1</td>\n",
       "    </tr>\n",
       "  </tbody>\n",
       "</table>\n",
       "<p>30000 rows × 24 columns</p>\n",
       "</div>"
      ],
      "text/plain": [
       "       limit_bal     sex    education marriage   age  \\\n",
       "0          20000  Female   University  Married  24.0   \n",
       "1         120000  Female   University   Single  26.0   \n",
       "2          90000  Female   University   Single  34.0   \n",
       "3          50000  Female   University  Married  37.0   \n",
       "4          50000    Male   University  Married  57.0   \n",
       "...          ...     ...          ...      ...   ...   \n",
       "29995     220000     NaN  High school  Married  39.0   \n",
       "29996     150000    Male  High school   Single  43.0   \n",
       "29997      30000    Male   University   Single  37.0   \n",
       "29998      80000    Male  High school  Married  41.0   \n",
       "29999      50000    Male   University  Married  46.0   \n",
       "\n",
       "             payment_status_sep        payment_status_aug  \\\n",
       "0      Payment delayed 2 months  Payment delayed 2 months   \n",
       "1                    Payed duly  Payment delayed 2 months   \n",
       "2                       Unknown                   Unknown   \n",
       "3                       Unknown                   Unknown   \n",
       "4                    Payed duly                   Unknown   \n",
       "...                         ...                       ...   \n",
       "29995                   Unknown                   Unknown   \n",
       "29996                Payed duly                Payed duly   \n",
       "29997  Payment delayed 4 months  Payment delayed 3 months   \n",
       "29998   Payment delayed 1 month                Payed duly   \n",
       "29999                   Unknown                   Unknown   \n",
       "\n",
       "             payment_status_jul payment_status_jun payment_status_may  ...  \\\n",
       "0                    Payed duly         Payed duly            Unknown  ...   \n",
       "1                       Unknown            Unknown            Unknown  ...   \n",
       "2                       Unknown            Unknown            Unknown  ...   \n",
       "3                       Unknown            Unknown            Unknown  ...   \n",
       "4                    Payed duly            Unknown            Unknown  ...   \n",
       "...                         ...                ...                ...  ...   \n",
       "29995                   Unknown            Unknown            Unknown  ...   \n",
       "29996                Payed duly         Payed duly            Unknown  ...   \n",
       "29997  Payment delayed 2 months         Payed duly            Unknown  ...   \n",
       "29998                   Unknown            Unknown            Unknown  ...   \n",
       "29999                   Unknown            Unknown            Unknown  ...   \n",
       "\n",
       "      bill_statement_jun  bill_statement_may  bill_statement_apr  \\\n",
       "0                      0                   0                   0   \n",
       "1                   3272                3455                3261   \n",
       "2                  14331               14948               15549   \n",
       "3                  28314               28959               29547   \n",
       "4                  20940               19146               19131   \n",
       "...                  ...                 ...                 ...   \n",
       "29995              88004               31237               15980   \n",
       "29996               8979                5190                   0   \n",
       "29997              20878               20582               19357   \n",
       "29998              52774               11855               48944   \n",
       "29999              36535               32428               15313   \n",
       "\n",
       "       previous_payment_sep  previous_payment_aug  previous_payment_jul  \\\n",
       "0                         0                   689                     0   \n",
       "1                         0                  1000                  1000   \n",
       "2                      1518                  1500                  1000   \n",
       "3                      2000                  2019                  1200   \n",
       "4                      2000                 36681                 10000   \n",
       "...                     ...                   ...                   ...   \n",
       "29995                  8500                 20000                  5003   \n",
       "29996                  1837                  3526                  8998   \n",
       "29997                     0                     0                 22000   \n",
       "29998                 85900                  3409                  1178   \n",
       "29999                  2078                  1800                  1430   \n",
       "\n",
       "       previous_payment_jun  previous_payment_may  previous_payment_apr  \\\n",
       "0                         0                     0                     0   \n",
       "1                      1000                     0                  2000   \n",
       "2                      1000                  1000                  5000   \n",
       "3                      1100                  1069                  1000   \n",
       "4                      9000                   689                   679   \n",
       "...                     ...                   ...                   ...   \n",
       "29995                  3047                  5000                  1000   \n",
       "29996                   129                     0                     0   \n",
       "29997                  4200                  2000                  3100   \n",
       "29998                  1926                 52964                  1804   \n",
       "29999                  1000                  1000                  1000   \n",
       "\n",
       "       default_payment_next_month  \n",
       "0                               1  \n",
       "1                               1  \n",
       "2                               0  \n",
       "3                               0  \n",
       "4                               0  \n",
       "...                           ...  \n",
       "29995                           0  \n",
       "29996                           0  \n",
       "29997                           1  \n",
       "29998                           1  \n",
       "29999                           1  \n",
       "\n",
       "[30000 rows x 24 columns]"
      ]
     },
     "execution_count": 90,
     "metadata": {},
     "output_type": "execute_result"
    }
   ],
   "source": [
    "df"
   ]
  },
  {
   "cell_type": "code",
   "execution_count": 85,
   "metadata": {},
   "outputs": [],
   "source": [
    "df = pd.read_csv('credit_card_default.csv', index_col=0, na_values='')"
   ]
  },
  {
   "cell_type": "code",
   "execution_count": 88,
   "metadata": {},
   "outputs": [],
   "source": [
    "#df.describe(include='object').transpose()\n",
    "# [Q. What does (include='object') mean?]\n",
    "# get summary statistics only for categorical variables"
   ]
  },
  {
   "cell_type": "code",
   "execution_count": 89,
   "metadata": {
    "scrolled": true
   },
   "outputs": [
    {
     "data": {
      "text/plain": [
       "limit_bal                       int64\n",
       "sex                            object\n",
       "education                      object\n",
       "marriage                       object\n",
       "age                           float64\n",
       "payment_status_sep             object\n",
       "payment_status_aug             object\n",
       "payment_status_jul             object\n",
       "payment_status_jun             object\n",
       "payment_status_may             object\n",
       "payment_status_apr             object\n",
       "bill_statement_sep              int64\n",
       "bill_statement_aug              int64\n",
       "bill_statement_jul              int64\n",
       "bill_statement_jun              int64\n",
       "bill_statement_may              int64\n",
       "bill_statement_apr              int64\n",
       "previous_payment_sep            int64\n",
       "previous_payment_aug            int64\n",
       "previous_payment_jul            int64\n",
       "previous_payment_jun            int64\n",
       "previous_payment_may            int64\n",
       "previous_payment_apr            int64\n",
       "default_payment_next_month      int64\n",
       "dtype: object"
      ]
     },
     "execution_count": 89,
     "metadata": {},
     "output_type": "execute_result"
    }
   ],
   "source": [
    "df.dtypes"
   ]
  },
  {
   "cell_type": "markdown",
   "metadata": {},
   "source": [
    "Notes:\n",
    "* Comparison of conda and pip\n",
    "\n",
    "|     |conda | pip |\n",
    "| --- | --- | --- |\n",
    "| manages | binaries | whell or source |\n",
    "| can require compilers | no | yes |\n",
    "| package types | any | Python-only |\n",
    "| create environment | yes, built-in | no, requires virtualenv |\n",
    "| dependenct checks | yes | no |\n",
    "| package sources | Anaconda repo and cloud | PyPI |\n"
   ]
  },
  {
   "cell_type": "code",
   "execution_count": null,
   "metadata": {},
   "outputs": [],
   "source": [
    "#[Q. What is sparse?]"
   ]
  },
  {
   "cell_type": "code",
   "execution_count": 13,
   "metadata": {},
   "outputs": [],
   "source": [
    "import pandas as pd\n",
    "from sklearn.preprocessing import OneHotEncoder"
   ]
  },
  {
   "cell_type": "code",
   "execution_count": 14,
   "metadata": {},
   "outputs": [],
   "source": [
    "X = [['Male', 1], ['Female', 3],['Female', 2]]"
   ]
  },
  {
   "cell_type": "code",
   "execution_count": 21,
   "metadata": {},
   "outputs": [
    {
     "data": {
      "text/plain": [
       "array([[1., 0., 1., 0., 0.],\n",
       "       [0., 1., 0., 0., 0.],\n",
       "       [0., 1., 1., 0., 0.]])"
      ]
     },
     "execution_count": 21,
     "metadata": {},
     "output_type": "execute_result"
    }
   ],
   "source": [
    "eg = OneHotEncoder(handle_unknown='ignore',sparse=True)\n",
    "eg.fit(X)\n",
    "eg.transform([['Female', 1], ['Male', 4],['Male', 1]]).toarray()"
   ]
  },
  {
   "cell_type": "code",
   "execution_count": 25,
   "metadata": {},
   "outputs": [
    {
     "data": {
      "text/plain": [
       "array(['x0_Female', 'x0_Male', 'x1_1', 'x1_2', 'x1_3'], dtype=object)"
      ]
     },
     "execution_count": 25,
     "metadata": {},
     "output_type": "execute_result"
    }
   ],
   "source": [
    "eg.get_feature_names()"
   ]
  },
  {
   "cell_type": "code",
   "execution_count": 22,
   "metadata": {},
   "outputs": [
    {
     "ename": "AttributeError",
     "evalue": "get_features not found",
     "output_type": "error",
     "traceback": [
      "\u001b[1;31m---------------------------------------------------------------------------\u001b[0m",
      "\u001b[1;31mAttributeError\u001b[0m                            Traceback (most recent call last)",
      "\u001b[1;32m~\\AppData\\Local\\Temp/ipykernel_16916/3263698300.py\u001b[0m in \u001b[0;36m<module>\u001b[1;34m\u001b[0m\n\u001b[1;32m----> 1\u001b[1;33m \u001b[0meg\u001b[0m\u001b[1;33m.\u001b[0m\u001b[0mtransform\u001b[0m\u001b[1;33m(\u001b[0m\u001b[1;33m[\u001b[0m\u001b[1;33m[\u001b[0m\u001b[1;34m'Female'\u001b[0m\u001b[1;33m,\u001b[0m \u001b[1;36m1\u001b[0m\u001b[1;33m]\u001b[0m\u001b[1;33m,\u001b[0m \u001b[1;33m[\u001b[0m\u001b[1;34m'Male'\u001b[0m\u001b[1;33m,\u001b[0m \u001b[1;36m4\u001b[0m\u001b[1;33m]\u001b[0m\u001b[1;33m,\u001b[0m\u001b[1;33m[\u001b[0m\u001b[1;34m'Male'\u001b[0m\u001b[1;33m,\u001b[0m \u001b[1;36m1\u001b[0m\u001b[1;33m]\u001b[0m\u001b[1;33m]\u001b[0m\u001b[1;33m)\u001b[0m\u001b[1;33m.\u001b[0m\u001b[0mget_features\u001b[0m\u001b[1;33m(\u001b[0m\u001b[1;33m)\u001b[0m\u001b[1;33m\u001b[0m\u001b[1;33m\u001b[0m\u001b[0m\n\u001b[0m",
      "\u001b[1;32mD:\\anaconda3\\lib\\site-packages\\scipy\\sparse\\base.py\u001b[0m in \u001b[0;36m__getattr__\u001b[1;34m(self, attr)\u001b[0m\n\u001b[0;32m    685\u001b[0m             \u001b[1;32mreturn\u001b[0m \u001b[0mself\u001b[0m\u001b[1;33m.\u001b[0m\u001b[0mgetnnz\u001b[0m\u001b[1;33m(\u001b[0m\u001b[1;33m)\u001b[0m\u001b[1;33m\u001b[0m\u001b[1;33m\u001b[0m\u001b[0m\n\u001b[0;32m    686\u001b[0m         \u001b[1;32melse\u001b[0m\u001b[1;33m:\u001b[0m\u001b[1;33m\u001b[0m\u001b[1;33m\u001b[0m\u001b[0m\n\u001b[1;32m--> 687\u001b[1;33m             \u001b[1;32mraise\u001b[0m \u001b[0mAttributeError\u001b[0m\u001b[1;33m(\u001b[0m\u001b[0mattr\u001b[0m \u001b[1;33m+\u001b[0m \u001b[1;34m\" not found\"\u001b[0m\u001b[1;33m)\u001b[0m\u001b[1;33m\u001b[0m\u001b[1;33m\u001b[0m\u001b[0m\n\u001b[0m\u001b[0;32m    688\u001b[0m \u001b[1;33m\u001b[0m\u001b[0m\n\u001b[0;32m    689\u001b[0m     \u001b[1;32mdef\u001b[0m \u001b[0mtranspose\u001b[0m\u001b[1;33m(\u001b[0m\u001b[0mself\u001b[0m\u001b[1;33m,\u001b[0m \u001b[0maxes\u001b[0m\u001b[1;33m=\u001b[0m\u001b[1;32mNone\u001b[0m\u001b[1;33m,\u001b[0m \u001b[0mcopy\u001b[0m\u001b[1;33m=\u001b[0m\u001b[1;32mFalse\u001b[0m\u001b[1;33m)\u001b[0m\u001b[1;33m:\u001b[0m\u001b[1;33m\u001b[0m\u001b[1;33m\u001b[0m\u001b[0m\n",
      "\u001b[1;31mAttributeError\u001b[0m: get_features not found"
     ]
    }
   ],
   "source": [
    "eg.transform([['Female', 1], ['Male', 4],['Male', 1]]).get_features()"
   ]
  },
  {
   "cell_type": "markdown",
   "metadata": {},
   "source": [
    "`sparse`*bool, default=True*. Will return sparse matrix if set True else will return an array."
   ]
  },
  {
   "cell_type": "code",
   "execution_count": 15,
   "metadata": {},
   "outputs": [
    {
     "data": {
      "text/plain": [
       "scipy.sparse.csr.csr_matrix"
      ]
     },
     "execution_count": 15,
     "metadata": {},
     "output_type": "execute_result"
    }
   ],
   "source": [
    "eg = OneHotEncoder(handle_unknown='ignore',sparse=True)\n",
    "eg.fit(X)\n",
    "type(eg.transform([['Female', 1], ['Male', 4],['Male', 1]]))"
   ]
  },
  {
   "cell_type": "code",
   "execution_count": 16,
   "metadata": {},
   "outputs": [
    {
     "data": {
      "text/plain": [
       "numpy.ndarray"
      ]
     },
     "execution_count": 16,
     "metadata": {},
     "output_type": "execute_result"
    }
   ],
   "source": [
    "eg = OneHotEncoder(handle_unknown='ignore',sparse=False)\n",
    "eg.fit(X)\n",
    "type(eg.transform([['Female', 1], ['Male', 4],['Male', 1]]))"
   ]
  },
  {
   "cell_type": "code",
   "execution_count": null,
   "metadata": {},
   "outputs": [],
   "source": [
    "#[Q. What does \"one_hot\" here do?]"
   ]
  },
  {
   "cell_type": "code",
   "execution_count": null,
   "metadata": {},
   "outputs": [],
   "source": [
    "one_hot_transformer = ColumnTransformer(\n",
    "    [(\"one_hot\", one_hot_encoder, ['sex'])] \n",
    ")\n",
    "# \"one_hot\" is the name of the transformer object and you can change it \n",
    "\n",
    "# (\"one_hot\", one_hot_encoder, ['sex'])\n",
    "# list of tuples: List of (name, transformer, columns) tuples specifying the transformer objects to be applied to subsets of the data.\n"
   ]
  },
  {
   "cell_type": "code",
   "execution_count": null,
   "metadata": {},
   "outputs": [],
   "source": [
    "#[Q. Can you tell me a bit more about about what the 'Category encoders can do here? What is the benefit of using it instead of the original encoder? How does the smoothing work here?]"
   ]
  },
  {
   "cell_type": "markdown",
   "metadata": {},
   "source": [
    "`OneHotEncoder` in `category_encoders`\n",
    "\n",
    "* automatically encodes only the columns containing strings\n",
    "\n",
    "* returns a `pandas` DataFrame with the adjusted column names"
   ]
  },
  {
   "cell_type": "code",
   "execution_count": 17,
   "metadata": {},
   "outputs": [],
   "source": [
    "import category_encoders as ce\n",
    "X = [['Male', 1], ['Female', 3],['Female', 2]]"
   ]
  },
  {
   "cell_type": "code",
   "execution_count": 35,
   "metadata": {},
   "outputs": [
    {
     "name": "stderr",
     "output_type": "stream",
     "text": [
      "D:\\anaconda3\\lib\\site-packages\\category_encoders\\utils.py:21: FutureWarning: is_categorical is deprecated and will be removed in a future version.  Use is_categorical_dtype instead\n",
      "  elif pd.api.types.is_categorical(cols):\n"
     ]
    },
    {
     "data": {
      "text/html": [
       "<div>\n",
       "<style scoped>\n",
       "    .dataframe tbody tr th:only-of-type {\n",
       "        vertical-align: middle;\n",
       "    }\n",
       "\n",
       "    .dataframe tbody tr th {\n",
       "        vertical-align: top;\n",
       "    }\n",
       "\n",
       "    .dataframe thead th {\n",
       "        text-align: right;\n",
       "    }\n",
       "</style>\n",
       "<table border=\"1\" class=\"dataframe\">\n",
       "  <thead>\n",
       "    <tr style=\"text-align: right;\">\n",
       "      <th></th>\n",
       "      <th>0_Male</th>\n",
       "      <th>0_Female</th>\n",
       "      <th>1</th>\n",
       "    </tr>\n",
       "  </thead>\n",
       "  <tbody>\n",
       "    <tr>\n",
       "      <th>0</th>\n",
       "      <td>0</td>\n",
       "      <td>1</td>\n",
       "      <td>1</td>\n",
       "    </tr>\n",
       "    <tr>\n",
       "      <th>1</th>\n",
       "      <td>1</td>\n",
       "      <td>0</td>\n",
       "      <td>4</td>\n",
       "    </tr>\n",
       "    <tr>\n",
       "      <th>2</th>\n",
       "      <td>1</td>\n",
       "      <td>0</td>\n",
       "      <td>1</td>\n",
       "    </tr>\n",
       "  </tbody>\n",
       "</table>\n",
       "</div>"
      ],
      "text/plain": [
       "   0_Male  0_Female  1\n",
       "0       0         1  1\n",
       "1       1         0  4\n",
       "2       1         0  1"
      ]
     },
     "execution_count": 35,
     "metadata": {},
     "output_type": "execute_result"
    }
   ],
   "source": [
    "# create the encoder object\n",
    "one_hot_encoder_ce = ce.OneHotEncoder(use_cat_names=True)\n",
    "one_hot_encoder_ce.fit(X)\n",
    "one_hot_encoder_ce.transform([['Female', 1], ['Male', 4],['Male', 1]]) # return a data frame"
   ]
  },
  {
   "cell_type": "code",
   "execution_count": 36,
   "metadata": {},
   "outputs": [
    {
     "data": {
      "text/plain": [
       "['0_Male', '0_Female', 1]"
      ]
     },
     "execution_count": 36,
     "metadata": {},
     "output_type": "execute_result"
    }
   ],
   "source": [
    "one_hot_encoder_ce.get_feature_names()  # encode only categorical features (column containing strings)"
   ]
  },
  {
   "cell_type": "code",
   "execution_count": 37,
   "metadata": {},
   "outputs": [],
   "source": [
    "from sklearn.preprocessing import OneHotEncoder"
   ]
  },
  {
   "cell_type": "code",
   "execution_count": 38,
   "metadata": {},
   "outputs": [
    {
     "data": {
      "text/plain": [
       "array([[1., 0., 1., 0., 0.],\n",
       "       [0., 1., 0., 0., 0.],\n",
       "       [0., 1., 1., 0., 0.]])"
      ]
     },
     "execution_count": 38,
     "metadata": {},
     "output_type": "execute_result"
    }
   ],
   "source": [
    "eg = OneHotEncoder(handle_unknown='ignore',sparse=False)\n",
    "eg.fit(X)\n",
    "eg.transform([['Female', 1], ['Male', 4],['Male', 1]]) # return an array"
   ]
  },
  {
   "cell_type": "code",
   "execution_count": 39,
   "metadata": {},
   "outputs": [
    {
     "data": {
      "text/plain": [
       "array(['x0_Female', 'x0_Male', 'x1_1', 'x1_2', 'x1_3'], dtype=object)"
      ]
     },
     "execution_count": 39,
     "metadata": {},
     "output_type": "execute_result"
    }
   ],
   "source": [
    "eg.get_feature_names() # encode all features including numerical features"
   ]
  },
  {
   "cell_type": "code",
   "execution_count": null,
   "metadata": {},
   "outputs": [],
   "source": [
    "#[Q. How does the smoothing work here?]\n",
    "# smoothing effect to balance categorical average vs prior. Higher value means stronger regularization. \n",
    "# The value must be strictly bigger than 0."
   ]
  },
  {
   "cell_type": "code",
   "execution_count": null,
   "metadata": {},
   "outputs": [],
   "source": [
    "target_encoder.transform(X_train.sex).head()\n",
    "\n",
    "#[Q. This is to fill up the missing values?]\n",
    "# to encode \"sex\" feature"
   ]
  },
  {
   "cell_type": "code",
   "execution_count": 44,
   "metadata": {},
   "outputs": [],
   "source": [
    "import category_encoders as ce\n",
    "X = ['Male', 'Female', 'Female']\n",
    "y = [1,0,1]\n",
    "eg= ['Female', 'Male', 'Male'] "
   ]
  },
  {
   "cell_type": "code",
   "execution_count": 48,
   "metadata": {
    "scrolled": true
   },
   "outputs": [
    {
     "name": "stderr",
     "output_type": "stream",
     "text": [
      "D:\\anaconda3\\lib\\site-packages\\category_encoders\\utils.py:21: FutureWarning: is_categorical is deprecated and will be removed in a future version.  Use is_categorical_dtype instead\n",
      "  elif pd.api.types.is_categorical(cols):\n"
     ]
    },
    {
     "data": {
      "text/html": [
       "<div>\n",
       "<style scoped>\n",
       "    .dataframe tbody tr th:only-of-type {\n",
       "        vertical-align: middle;\n",
       "    }\n",
       "\n",
       "    .dataframe tbody tr th {\n",
       "        vertical-align: top;\n",
       "    }\n",
       "\n",
       "    .dataframe thead th {\n",
       "        text-align: right;\n",
       "    }\n",
       "</style>\n",
       "<table border=\"1\" class=\"dataframe\">\n",
       "  <thead>\n",
       "    <tr style=\"text-align: right;\">\n",
       "      <th></th>\n",
       "      <th>0</th>\n",
       "    </tr>\n",
       "  </thead>\n",
       "  <tbody>\n",
       "    <tr>\n",
       "      <th>0</th>\n",
       "      <td>0.500000</td>\n",
       "    </tr>\n",
       "    <tr>\n",
       "      <th>1</th>\n",
       "      <td>0.666667</td>\n",
       "    </tr>\n",
       "    <tr>\n",
       "      <th>2</th>\n",
       "      <td>0.666667</td>\n",
       "    </tr>\n",
       "  </tbody>\n",
       "</table>\n",
       "</div>"
      ],
      "text/plain": [
       "          0\n",
       "0  0.500000\n",
       "1  0.666667\n",
       "2  0.666667"
      ]
     },
     "execution_count": 48,
     "metadata": {},
     "output_type": "execute_result"
    }
   ],
   "source": [
    "target_encoder = ce.TargetEncoder(smoothing=0) \n",
    "target_encoder.fit(X, y)\n",
    "target_encoder.transform(eg)"
   ]
  },
  {
   "cell_type": "code",
   "execution_count": 54,
   "metadata": {},
   "outputs": [
    {
     "name": "stderr",
     "output_type": "stream",
     "text": [
      "D:\\anaconda3\\lib\\site-packages\\category_encoders\\utils.py:21: FutureWarning: is_categorical is deprecated and will be removed in a future version.  Use is_categorical_dtype instead\n",
      "  elif pd.api.types.is_categorical(cols):\n"
     ]
    },
    {
     "data": {
      "text/html": [
       "<div>\n",
       "<style scoped>\n",
       "    .dataframe tbody tr th:only-of-type {\n",
       "        vertical-align: middle;\n",
       "    }\n",
       "\n",
       "    .dataframe tbody tr th {\n",
       "        vertical-align: top;\n",
       "    }\n",
       "\n",
       "    .dataframe thead th {\n",
       "        text-align: right;\n",
       "    }\n",
       "</style>\n",
       "<table border=\"1\" class=\"dataframe\">\n",
       "  <thead>\n",
       "    <tr style=\"text-align: right;\">\n",
       "      <th></th>\n",
       "      <th>0</th>\n",
       "    </tr>\n",
       "  </thead>\n",
       "  <tbody>\n",
       "    <tr>\n",
       "      <th>0</th>\n",
       "      <td>0.544824</td>\n",
       "    </tr>\n",
       "    <tr>\n",
       "      <th>1</th>\n",
       "      <td>0.666667</td>\n",
       "    </tr>\n",
       "    <tr>\n",
       "      <th>2</th>\n",
       "      <td>0.666667</td>\n",
       "    </tr>\n",
       "  </tbody>\n",
       "</table>\n",
       "</div>"
      ],
      "text/plain": [
       "          0\n",
       "0  0.544824\n",
       "1  0.666667\n",
       "2  0.666667"
      ]
     },
     "execution_count": 54,
     "metadata": {},
     "output_type": "execute_result"
    }
   ],
   "source": [
    "target_encoder = ce.TargetEncoder(smoothing=1) \n",
    "target_encoder.fit(X, y)\n",
    "target_encoder.transform(eg)"
   ]
  },
  {
   "cell_type": "code",
   "execution_count": null,
   "metadata": {},
   "outputs": [],
   "source": [
    "# https://www.section.io/engineering-education/custom-transformer/\n",
    "# https://deepnote.com/@abalaji/How-to-use-custom-sklearn-classes-and-pipelines-N1zNlrxpRE6PlKGbEzLU-Q"
   ]
  },
  {
   "cell_type": "markdown",
   "metadata": {},
   "source": [
    "## pipeline-transformer<br>\n",
    "\n",
    "pipeline: actions\n",
    "\n",
    "transformer: action and target\n",
    "\n",
    "you can put a transformer into a pipeline\n",
    "\n",
    "\n",
    "## steps:\n",
    "1. num pipeline(simple imputer)\n",
    "\n",
    "2. cat pipeline(imputer, onehot)\n",
    "\n",
    "3. define a columntransformer to hold the two pipelines and specifiy the columns for the transformation\n",
    "\n",
    "4. define a joint pipeline (transformer, classifier)\n",
    "\n",
    "5. fit the pipeline to the data \n",
    "\n",
    "6. evaluate the performance\n",
    "\n",
    "`Pipelines` allow you to run multiple operations on an input dataset in succession before an estimation is performed. It was originally designed to be a linear step-by-step transformation template but there are now additional tools in the Pipeline toolkit that allow for horizontal joining of \"columns\". "
   ]
  },
  {
   "cell_type": "code",
   "execution_count": null,
   "metadata": {},
   "outputs": [],
   "source": []
  }
 ],
 "metadata": {
  "kernelspec": {
   "display_name": "Python 3 (ipykernel)",
   "language": "python",
   "name": "python3"
  },
  "language_info": {
   "codemirror_mode": {
    "name": "ipython",
    "version": 3
   },
   "file_extension": ".py",
   "mimetype": "text/x-python",
   "name": "python",
   "nbconvert_exporter": "python",
   "pygments_lexer": "ipython3",
   "version": "3.8.11"
  }
 },
 "nbformat": 4,
 "nbformat_minor": 4
}
